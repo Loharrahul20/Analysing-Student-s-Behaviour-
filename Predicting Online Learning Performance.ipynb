{
 "cells": [
  {
   "cell_type": "markdown",
   "metadata": {},
   "source": [
    "# <Font color=Black> Analysing Student's Behaviour </font>"
   ]
  },
  {
   "cell_type": "code",
   "execution_count": 1,
   "metadata": {},
   "outputs": [],
   "source": [
    "import pandas as pd\n",
    "import numpy as np\n",
    "A = pd.read_csv(\"D:\\DATA SCIENCE PROJECTS\\MBA SIP PROJECT\\Predicting Online Learning Performance.csv\")"
   ]
  },
  {
   "cell_type": "code",
   "execution_count": 2,
   "metadata": {},
   "outputs": [
    {
     "data": {
      "text/html": [
       "<div>\n",
       "<style scoped>\n",
       "    .dataframe tbody tr th:only-of-type {\n",
       "        vertical-align: middle;\n",
       "    }\n",
       "\n",
       "    .dataframe tbody tr th {\n",
       "        vertical-align: top;\n",
       "    }\n",
       "\n",
       "    .dataframe thead th {\n",
       "        text-align: right;\n",
       "    }\n",
       "</style>\n",
       "<table border=\"1\" class=\"dataframe\">\n",
       "  <thead>\n",
       "    <tr style=\"text-align: right;\">\n",
       "      <th></th>\n",
       "      <th>gender</th>\n",
       "      <th>NationalITy</th>\n",
       "      <th>PlaceofBirth</th>\n",
       "      <th>StageID</th>\n",
       "      <th>GradeID</th>\n",
       "      <th>SectionID</th>\n",
       "      <th>Topic</th>\n",
       "      <th>Semester</th>\n",
       "      <th>Relation</th>\n",
       "      <th>raisedhands</th>\n",
       "      <th>VisITedResources</th>\n",
       "      <th>AnnouncementsView</th>\n",
       "      <th>Discussion</th>\n",
       "      <th>ParentAnsweringSurvey</th>\n",
       "      <th>ParentschoolSatisfaction</th>\n",
       "      <th>StudentAbsenceDays</th>\n",
       "      <th>Class</th>\n",
       "    </tr>\n",
       "  </thead>\n",
       "  <tbody>\n",
       "    <tr>\n",
       "      <th>0</th>\n",
       "      <td>M</td>\n",
       "      <td>KW</td>\n",
       "      <td>KuwaIT</td>\n",
       "      <td>lowerlevel</td>\n",
       "      <td>G-04</td>\n",
       "      <td>A</td>\n",
       "      <td>IT</td>\n",
       "      <td>F</td>\n",
       "      <td>Father</td>\n",
       "      <td>15</td>\n",
       "      <td>16</td>\n",
       "      <td>2</td>\n",
       "      <td>20</td>\n",
       "      <td>Yes</td>\n",
       "      <td>Good</td>\n",
       "      <td>Under-7</td>\n",
       "      <td>M</td>\n",
       "    </tr>\n",
       "    <tr>\n",
       "      <th>1</th>\n",
       "      <td>M</td>\n",
       "      <td>KW</td>\n",
       "      <td>KuwaIT</td>\n",
       "      <td>lowerlevel</td>\n",
       "      <td>G-04</td>\n",
       "      <td>A</td>\n",
       "      <td>IT</td>\n",
       "      <td>F</td>\n",
       "      <td>Father</td>\n",
       "      <td>20</td>\n",
       "      <td>20</td>\n",
       "      <td>3</td>\n",
       "      <td>25</td>\n",
       "      <td>Yes</td>\n",
       "      <td>Good</td>\n",
       "      <td>Under-7</td>\n",
       "      <td>M</td>\n",
       "    </tr>\n",
       "    <tr>\n",
       "      <th>2</th>\n",
       "      <td>M</td>\n",
       "      <td>KW</td>\n",
       "      <td>KuwaIT</td>\n",
       "      <td>lowerlevel</td>\n",
       "      <td>G-04</td>\n",
       "      <td>A</td>\n",
       "      <td>IT</td>\n",
       "      <td>F</td>\n",
       "      <td>Father</td>\n",
       "      <td>10</td>\n",
       "      <td>7</td>\n",
       "      <td>0</td>\n",
       "      <td>30</td>\n",
       "      <td>No</td>\n",
       "      <td>Bad</td>\n",
       "      <td>Above-7</td>\n",
       "      <td>L</td>\n",
       "    </tr>\n",
       "    <tr>\n",
       "      <th>3</th>\n",
       "      <td>M</td>\n",
       "      <td>KW</td>\n",
       "      <td>KuwaIT</td>\n",
       "      <td>lowerlevel</td>\n",
       "      <td>G-04</td>\n",
       "      <td>A</td>\n",
       "      <td>IT</td>\n",
       "      <td>F</td>\n",
       "      <td>Father</td>\n",
       "      <td>30</td>\n",
       "      <td>25</td>\n",
       "      <td>5</td>\n",
       "      <td>35</td>\n",
       "      <td>No</td>\n",
       "      <td>Bad</td>\n",
       "      <td>Above-7</td>\n",
       "      <td>L</td>\n",
       "    </tr>\n",
       "    <tr>\n",
       "      <th>4</th>\n",
       "      <td>M</td>\n",
       "      <td>KW</td>\n",
       "      <td>KuwaIT</td>\n",
       "      <td>lowerlevel</td>\n",
       "      <td>G-04</td>\n",
       "      <td>A</td>\n",
       "      <td>IT</td>\n",
       "      <td>F</td>\n",
       "      <td>Father</td>\n",
       "      <td>40</td>\n",
       "      <td>50</td>\n",
       "      <td>12</td>\n",
       "      <td>50</td>\n",
       "      <td>No</td>\n",
       "      <td>Bad</td>\n",
       "      <td>Above-7</td>\n",
       "      <td>M</td>\n",
       "    </tr>\n",
       "  </tbody>\n",
       "</table>\n",
       "</div>"
      ],
      "text/plain": [
       "  gender NationalITy PlaceofBirth     StageID GradeID SectionID Topic  \\\n",
       "0      M          KW       KuwaIT  lowerlevel    G-04         A    IT   \n",
       "1      M          KW       KuwaIT  lowerlevel    G-04         A    IT   \n",
       "2      M          KW       KuwaIT  lowerlevel    G-04         A    IT   \n",
       "3      M          KW       KuwaIT  lowerlevel    G-04         A    IT   \n",
       "4      M          KW       KuwaIT  lowerlevel    G-04         A    IT   \n",
       "\n",
       "  Semester Relation  raisedhands  VisITedResources  AnnouncementsView  \\\n",
       "0        F   Father           15                16                  2   \n",
       "1        F   Father           20                20                  3   \n",
       "2        F   Father           10                 7                  0   \n",
       "3        F   Father           30                25                  5   \n",
       "4        F   Father           40                50                 12   \n",
       "\n",
       "   Discussion ParentAnsweringSurvey ParentschoolSatisfaction  \\\n",
       "0          20                   Yes                     Good   \n",
       "1          25                   Yes                     Good   \n",
       "2          30                    No                      Bad   \n",
       "3          35                    No                      Bad   \n",
       "4          50                    No                      Bad   \n",
       "\n",
       "  StudentAbsenceDays Class  \n",
       "0            Under-7     M  \n",
       "1            Under-7     M  \n",
       "2            Above-7     L  \n",
       "3            Above-7     L  \n",
       "4            Above-7     M  "
      ]
     },
     "execution_count": 2,
     "metadata": {},
     "output_type": "execute_result"
    }
   ],
   "source": [
    "A.head()"
   ]
  },
  {
   "cell_type": "markdown",
   "metadata": {},
   "source": [
    "# Exploratory data Analysis(EDA)"
   ]
  },
  {
   "cell_type": "code",
   "execution_count": 67,
   "metadata": {},
   "outputs": [
    {
     "name": "stdout",
     "output_type": "stream",
     "text": [
      "<class 'pandas.core.frame.DataFrame'>\n",
      "RangeIndex: 480 entries, 0 to 479\n",
      "Data columns (total 17 columns):\n",
      " #   Column                    Non-Null Count  Dtype \n",
      "---  ------                    --------------  ----- \n",
      " 0   gender                    480 non-null    object\n",
      " 1   NationalITy               480 non-null    object\n",
      " 2   PlaceofBirth              480 non-null    object\n",
      " 3   StageID                   480 non-null    object\n",
      " 4   GradeID                   480 non-null    object\n",
      " 5   SectionID                 480 non-null    object\n",
      " 6   Topic                     480 non-null    object\n",
      " 7   Semester                  480 non-null    object\n",
      " 8   Relation                  480 non-null    object\n",
      " 9   raisedhands               480 non-null    int64 \n",
      " 10  VisITedResources          480 non-null    int64 \n",
      " 11  AnnouncementsView         480 non-null    int64 \n",
      " 12  Discussion                480 non-null    int64 \n",
      " 13  ParentAnsweringSurvey     480 non-null    object\n",
      " 14  ParentschoolSatisfaction  480 non-null    object\n",
      " 15  StudentAbsenceDays        480 non-null    object\n",
      " 16  Class                     480 non-null    object\n",
      "dtypes: int64(4), object(13)\n",
      "memory usage: 63.9+ KB\n"
     ]
    }
   ],
   "source": [
    "A.info()"
   ]
  },
  {
   "cell_type": "code",
   "execution_count": 16,
   "metadata": {},
   "outputs": [
    {
     "data": {
      "text/html": [
       "<div>\n",
       "<style scoped>\n",
       "    .dataframe tbody tr th:only-of-type {\n",
       "        vertical-align: middle;\n",
       "    }\n",
       "\n",
       "    .dataframe tbody tr th {\n",
       "        vertical-align: top;\n",
       "    }\n",
       "\n",
       "    .dataframe thead th {\n",
       "        text-align: right;\n",
       "    }\n",
       "</style>\n",
       "<table border=\"1\" class=\"dataframe\">\n",
       "  <thead>\n",
       "    <tr style=\"text-align: right;\">\n",
       "      <th></th>\n",
       "      <th>raisedhands</th>\n",
       "      <th>VisITedResources</th>\n",
       "      <th>AnnouncementsView</th>\n",
       "      <th>Discussion</th>\n",
       "    </tr>\n",
       "  </thead>\n",
       "  <tbody>\n",
       "    <tr>\n",
       "      <th>count</th>\n",
       "      <td>480.000000</td>\n",
       "      <td>480.000000</td>\n",
       "      <td>480.000000</td>\n",
       "      <td>480.000000</td>\n",
       "    </tr>\n",
       "    <tr>\n",
       "      <th>mean</th>\n",
       "      <td>46.775000</td>\n",
       "      <td>54.797917</td>\n",
       "      <td>37.918750</td>\n",
       "      <td>43.283333</td>\n",
       "    </tr>\n",
       "    <tr>\n",
       "      <th>std</th>\n",
       "      <td>30.779223</td>\n",
       "      <td>33.080007</td>\n",
       "      <td>26.611244</td>\n",
       "      <td>27.637735</td>\n",
       "    </tr>\n",
       "    <tr>\n",
       "      <th>min</th>\n",
       "      <td>0.000000</td>\n",
       "      <td>0.000000</td>\n",
       "      <td>0.000000</td>\n",
       "      <td>1.000000</td>\n",
       "    </tr>\n",
       "    <tr>\n",
       "      <th>25%</th>\n",
       "      <td>15.750000</td>\n",
       "      <td>20.000000</td>\n",
       "      <td>14.000000</td>\n",
       "      <td>20.000000</td>\n",
       "    </tr>\n",
       "    <tr>\n",
       "      <th>50%</th>\n",
       "      <td>50.000000</td>\n",
       "      <td>65.000000</td>\n",
       "      <td>33.000000</td>\n",
       "      <td>39.000000</td>\n",
       "    </tr>\n",
       "    <tr>\n",
       "      <th>75%</th>\n",
       "      <td>75.000000</td>\n",
       "      <td>84.000000</td>\n",
       "      <td>58.000000</td>\n",
       "      <td>70.000000</td>\n",
       "    </tr>\n",
       "    <tr>\n",
       "      <th>max</th>\n",
       "      <td>100.000000</td>\n",
       "      <td>99.000000</td>\n",
       "      <td>98.000000</td>\n",
       "      <td>99.000000</td>\n",
       "    </tr>\n",
       "  </tbody>\n",
       "</table>\n",
       "</div>"
      ],
      "text/plain": [
       "       raisedhands  VisITedResources  AnnouncementsView  Discussion\n",
       "count   480.000000        480.000000         480.000000  480.000000\n",
       "mean     46.775000         54.797917          37.918750   43.283333\n",
       "std      30.779223         33.080007          26.611244   27.637735\n",
       "min       0.000000          0.000000           0.000000    1.000000\n",
       "25%      15.750000         20.000000          14.000000   20.000000\n",
       "50%      50.000000         65.000000          33.000000   39.000000\n",
       "75%      75.000000         84.000000          58.000000   70.000000\n",
       "max     100.000000         99.000000          98.000000   99.000000"
      ]
     },
     "execution_count": 16,
     "metadata": {},
     "output_type": "execute_result"
    }
   ],
   "source": [
    "A.describe()"
   ]
  },
  {
   "cell_type": "code",
   "execution_count": 14,
   "metadata": {},
   "outputs": [
    {
     "data": {
      "text/plain": [
       "<seaborn.axisgrid.PairGrid at 0x1302e060188>"
      ]
     },
     "execution_count": 14,
     "metadata": {},
     "output_type": "execute_result"
    },
    {
     "data": {
      "image/png": "[encoded data removed]",
      "text/plain": [
       "<Figure size 764.625x720 with 20 Axes>"
      ]
     },
     "metadata": {
      "needs_background": "light"
     },
     "output_type": "display_data"
    }
   ],
   "source": [
    "sns.pairplot(A,hue='Class')"
   ]
  },
  {
   "cell_type": "markdown",
   "metadata": {},
   "source": [
    "# Missing value Analysis"
   ]
  },
  {
   "cell_type": "code",
   "execution_count": 68,
   "metadata": {},
   "outputs": [
    {
     "data": {
      "text/plain": [
       "gender                      0\n",
       "NationalITy                 0\n",
       "PlaceofBirth                0\n",
       "StageID                     0\n",
       "GradeID                     0\n",
       "SectionID                   0\n",
       "Topic                       0\n",
       "Semester                    0\n",
       "Relation                    0\n",
       "raisedhands                 0\n",
       "VisITedResources            0\n",
       "AnnouncementsView           0\n",
       "Discussion                  0\n",
       "ParentAnsweringSurvey       0\n",
       "ParentschoolSatisfaction    0\n",
       "StudentAbsenceDays          0\n",
       "Class                       0\n",
       "dtype: int64"
      ]
     },
     "execution_count": 68,
     "metadata": {},
     "output_type": "execute_result"
    }
   ],
   "source": [
    "missing_val = A.isna().sum()\n",
    "missing_val"
   ]
  },
  {
   "cell_type": "markdown",
   "metadata": {},
   "source": [
    "# Outlier Analysis"
   ]
  },
  {
   "cell_type": "code",
   "execution_count": 61,
   "metadata": {},
   "outputs": [
    {
     "name": "stdout",
     "output_type": "stream",
     "text": [
      "raisedhands\n"
     ]
    },
    {
     "data": {
      "image/png": "[encoded data removed]",
      "text/plain": [
       "<Figure size 432x288 with 1 Axes>"
      ]
     },
     "metadata": {
      "needs_background": "light"
     },
     "output_type": "display_data"
    },
    {
     "name": "stdout",
     "output_type": "stream",
     "text": [
      "AnnouncementsView\n"
     ]
    },
    {
     "data": {
      "image/png": "[encoded data removed]",
      "text/plain": [
       "<Figure size 432x288 with 1 Axes>"
      ]
     },
     "metadata": {
      "needs_background": "light"
     },
     "output_type": "display_data"
    },
    {
     "name": "stdout",
     "output_type": "stream",
     "text": [
      "VisITedResources\n"
     ]
    },
    {
     "data": {
      "image/png": "[encoded data removed]",
      "text/plain": [
       "<Figure size 432x288 with 1 Axes>"
      ]
     },
     "metadata": {
      "needs_background": "light"
     },
     "output_type": "display_data"
    },
    {
     "name": "stdout",
     "output_type": "stream",
     "text": [
      "Discussion\n"
     ]
    },
    {
     "data": {
      "image/png": "[encoded data removed]",
      "text/plain": [
       "<Figure size 432x288 with 1 Axes>"
      ]
     },
     "metadata": {
      "needs_background": "light"
     },
     "output_type": "display_data"
    }
   ],
   "source": [
    "import matplotlib.pyplot as plt\n",
    "boxplot_lst = ['raisedhands','AnnouncementsView','VisITedResources','Discussion']\n",
    "\n",
    "for i in range(len(boxplot_lst)):\n",
    "    print(boxplot_lst[i])\n",
    "    X = A[boxplot_lst[i]]\n",
    "    Y = A['Class']\n",
    "#     plt.subplot(2,2,1)\n",
    "    sns.boxplot(X,Y)\n",
    "    plt.show()"
   ]
  },
  {
   "cell_type": "markdown",
   "metadata": {},
   "source": [
    "# Feature Engineering"
   ]
  },
  {
   "cell_type": "markdown",
   "metadata": {},
   "source": [
    "In the context to understand the student and his results, setting up a dataframe with certain columns"
   ]
  },
  {
   "cell_type": "code",
   "execution_count": 29,
   "metadata": {},
   "outputs": [
    {
     "data": {
      "text/html": [
       "<div>\n",
       "<style scoped>\n",
       "    .dataframe tbody tr th:only-of-type {\n",
       "        vertical-align: middle;\n",
       "    }\n",
       "\n",
       "    .dataframe tbody tr th {\n",
       "        vertical-align: top;\n",
       "    }\n",
       "\n",
       "    .dataframe thead th {\n",
       "        text-align: right;\n",
       "    }\n",
       "</style>\n",
       "<table border=\"1\" class=\"dataframe\">\n",
       "  <thead>\n",
       "    <tr style=\"text-align: right;\">\n",
       "      <th></th>\n",
       "      <th>gender</th>\n",
       "      <th>PlaceofBirth</th>\n",
       "      <th>StageID</th>\n",
       "      <th>Topic</th>\n",
       "      <th>raisedhands</th>\n",
       "      <th>VisITedResources</th>\n",
       "      <th>AnnouncementsView</th>\n",
       "      <th>Discussion</th>\n",
       "      <th>ParentAnsweringSurvey</th>\n",
       "      <th>ParentschoolSatisfaction</th>\n",
       "      <th>StudentAbsenceDays</th>\n",
       "      <th>Class</th>\n",
       "    </tr>\n",
       "  </thead>\n",
       "  <tbody>\n",
       "    <tr>\n",
       "      <th>0</th>\n",
       "      <td>M</td>\n",
       "      <td>KuwaIT</td>\n",
       "      <td>lowerlevel</td>\n",
       "      <td>IT</td>\n",
       "      <td>15</td>\n",
       "      <td>16</td>\n",
       "      <td>2</td>\n",
       "      <td>20</td>\n",
       "      <td>Yes</td>\n",
       "      <td>Good</td>\n",
       "      <td>Under-7</td>\n",
       "      <td>M</td>\n",
       "    </tr>\n",
       "    <tr>\n",
       "      <th>1</th>\n",
       "      <td>M</td>\n",
       "      <td>KuwaIT</td>\n",
       "      <td>lowerlevel</td>\n",
       "      <td>IT</td>\n",
       "      <td>20</td>\n",
       "      <td>20</td>\n",
       "      <td>3</td>\n",
       "      <td>25</td>\n",
       "      <td>Yes</td>\n",
       "      <td>Good</td>\n",
       "      <td>Under-7</td>\n",
       "      <td>M</td>\n",
       "    </tr>\n",
       "    <tr>\n",
       "      <th>2</th>\n",
       "      <td>M</td>\n",
       "      <td>KuwaIT</td>\n",
       "      <td>lowerlevel</td>\n",
       "      <td>IT</td>\n",
       "      <td>10</td>\n",
       "      <td>7</td>\n",
       "      <td>0</td>\n",
       "      <td>30</td>\n",
       "      <td>No</td>\n",
       "      <td>Bad</td>\n",
       "      <td>Above-7</td>\n",
       "      <td>L</td>\n",
       "    </tr>\n",
       "    <tr>\n",
       "      <th>3</th>\n",
       "      <td>M</td>\n",
       "      <td>KuwaIT</td>\n",
       "      <td>lowerlevel</td>\n",
       "      <td>IT</td>\n",
       "      <td>30</td>\n",
       "      <td>25</td>\n",
       "      <td>5</td>\n",
       "      <td>35</td>\n",
       "      <td>No</td>\n",
       "      <td>Bad</td>\n",
       "      <td>Above-7</td>\n",
       "      <td>L</td>\n",
       "    </tr>\n",
       "    <tr>\n",
       "      <th>4</th>\n",
       "      <td>M</td>\n",
       "      <td>KuwaIT</td>\n",
       "      <td>lowerlevel</td>\n",
       "      <td>IT</td>\n",
       "      <td>40</td>\n",
       "      <td>50</td>\n",
       "      <td>12</td>\n",
       "      <td>50</td>\n",
       "      <td>No</td>\n",
       "      <td>Bad</td>\n",
       "      <td>Above-7</td>\n",
       "      <td>M</td>\n",
       "    </tr>\n",
       "  </tbody>\n",
       "</table>\n",
       "</div>"
      ],
      "text/plain": [
       "  gender PlaceofBirth     StageID Topic  raisedhands  VisITedResources  \\\n",
       "0      M       KuwaIT  lowerlevel    IT           15                16   \n",
       "1      M       KuwaIT  lowerlevel    IT           20                20   \n",
       "2      M       KuwaIT  lowerlevel    IT           10                 7   \n",
       "3      M       KuwaIT  lowerlevel    IT           30                25   \n",
       "4      M       KuwaIT  lowerlevel    IT           40                50   \n",
       "\n",
       "   AnnouncementsView  Discussion ParentAnsweringSurvey  \\\n",
       "0                  2          20                   Yes   \n",
       "1                  3          25                   Yes   \n",
       "2                  0          30                    No   \n",
       "3                  5          35                    No   \n",
       "4                 12          50                    No   \n",
       "\n",
       "  ParentschoolSatisfaction StudentAbsenceDays Class  \n",
       "0                     Good            Under-7     M  \n",
       "1                     Good            Under-7     M  \n",
       "2                      Bad            Above-7     L  \n",
       "3                      Bad            Above-7     L  \n",
       "4                      Bad            Above-7     M  "
      ]
     },
     "execution_count": 29,
     "metadata": {},
     "output_type": "execute_result"
    }
   ],
   "source": [
    "A = A[['gender','PlaceofBirth','StageID','Topic','raisedhands','VisITedResources','AnnouncementsView','Discussion', 'ParentAnsweringSurvey','ParentschoolSatisfaction','StudentAbsenceDays', 'Class']]\n",
    "A.head()"
   ]
  },
  {
   "cell_type": "code",
   "execution_count": 78,
   "metadata": {},
   "outputs": [
    {
     "data": {
      "text/plain": [
       "ParentschoolSatisfaction  Class\n",
       "Bad                       L        0.446809\n",
       "                          M        0.425532\n",
       "                          H        0.127660\n",
       "Good                      M        0.448630\n",
       "                          H        0.404110\n",
       "                          L        0.147260\n",
       "Name: Class, dtype: float64"
      ]
     },
     "execution_count": 78,
     "metadata": {},
     "output_type": "execute_result"
    }
   ],
   "source": [
    "A.groupby(['ParentschoolSatisfaction'])['Class'].value_counts(normalize=True)"
   ]
  },
  {
   "cell_type": "code",
   "execution_count": 80,
   "metadata": {},
   "outputs": [
    {
     "data": {
      "text/plain": [
       "ParentAnsweringSurvey  ParentschoolSatisfaction\n",
       "No                     Bad                         0.690476\n",
       "                       Good                        0.309524\n",
       "Yes                    Good                        0.840741\n",
       "                       Bad                         0.159259\n",
       "Name: ParentschoolSatisfaction, dtype: float64"
      ]
     },
     "execution_count": 80,
     "metadata": {},
     "output_type": "execute_result"
    }
   ],
   "source": [
    "A.groupby(['ParentAnsweringSurvey'])['ParentschoolSatisfaction'].value_counts(normalize=True)"
   ]
  },
  {
   "cell_type": "markdown",
   "metadata": {},
   "source": [
    "#### It seems that parents which aren't envolved in answering the scholar's surveys are likely to become unsatisfied with the School. This can mean that well informed parents can better understand the student's enrollment and reality and are better satisfied.\n"
   ]
  },
  {
   "cell_type": "markdown",
   "metadata": {},
   "source": [
    "### <Font color=Browun> We will try to understand the relation between What is the relation between parents and student's classification? </font> "
   ]
  },
  {
   "cell_type": "code",
   "execution_count": 82,
   "metadata": {},
   "outputs": [
    {
     "data": {
      "text/plain": [
       "ParentAnsweringSurvey  Class\n",
       "No                     L        0.471429\n",
       "                       M        0.395238\n",
       "                       H        0.133333\n",
       "Yes                    M        0.474074\n",
       "                       H        0.422222\n",
       "                       L        0.103704\n",
       "Name: Class, dtype: float64"
      ]
     },
     "execution_count": 82,
     "metadata": {},
     "output_type": "execute_result"
    }
   ],
   "source": [
    "A.groupby(['ParentAnsweringSurvey'])['Class'].value_counts(normalize=True)"
   ]
  },
  {
   "cell_type": "markdown",
   "metadata": {},
   "source": [
    "#### So, definitively parent's active behavior has an important role on student's growth."
   ]
  },
  {
   "cell_type": "markdown",
   "metadata": {},
   "source": [
    "### <Font color=Browun> Understanding student's behavior </font> "
   ]
  },
  {
   "cell_type": "markdown",
   "metadata": {},
   "source": [
    "#### Next, it is important to know what characteristics are linked to students sucess. So, we're going to test the features related."
   ]
  },
  {
   "cell_type": "code",
   "execution_count": 2,
   "metadata": {},
   "outputs": [
    {
     "data": {
      "text/html": [
       "<div>\n",
       "<style scoped>\n",
       "    .dataframe tbody tr th:only-of-type {\n",
       "        vertical-align: middle;\n",
       "    }\n",
       "\n",
       "    .dataframe tbody tr th {\n",
       "        vertical-align: top;\n",
       "    }\n",
       "\n",
       "    .dataframe thead th {\n",
       "        text-align: right;\n",
       "    }\n",
       "</style>\n",
       "<table border=\"1\" class=\"dataframe\">\n",
       "  <thead>\n",
       "    <tr style=\"text-align: right;\">\n",
       "      <th></th>\n",
       "      <th>gender</th>\n",
       "      <th>raisedhands</th>\n",
       "      <th>VisITedResources</th>\n",
       "      <th>AnnouncementsView</th>\n",
       "      <th>Discussion</th>\n",
       "      <th>StudentAbsenceDays</th>\n",
       "      <th>Class</th>\n",
       "    </tr>\n",
       "  </thead>\n",
       "  <tbody>\n",
       "    <tr>\n",
       "      <th>0</th>\n",
       "      <td>M</td>\n",
       "      <td>15</td>\n",
       "      <td>16</td>\n",
       "      <td>2</td>\n",
       "      <td>20</td>\n",
       "      <td>Under-7</td>\n",
       "      <td>M</td>\n",
       "    </tr>\n",
       "    <tr>\n",
       "      <th>1</th>\n",
       "      <td>M</td>\n",
       "      <td>20</td>\n",
       "      <td>20</td>\n",
       "      <td>3</td>\n",
       "      <td>25</td>\n",
       "      <td>Under-7</td>\n",
       "      <td>M</td>\n",
       "    </tr>\n",
       "    <tr>\n",
       "      <th>2</th>\n",
       "      <td>M</td>\n",
       "      <td>10</td>\n",
       "      <td>7</td>\n",
       "      <td>0</td>\n",
       "      <td>30</td>\n",
       "      <td>Above-7</td>\n",
       "      <td>L</td>\n",
       "    </tr>\n",
       "    <tr>\n",
       "      <th>3</th>\n",
       "      <td>M</td>\n",
       "      <td>30</td>\n",
       "      <td>25</td>\n",
       "      <td>5</td>\n",
       "      <td>35</td>\n",
       "      <td>Above-7</td>\n",
       "      <td>L</td>\n",
       "    </tr>\n",
       "    <tr>\n",
       "      <th>4</th>\n",
       "      <td>M</td>\n",
       "      <td>40</td>\n",
       "      <td>50</td>\n",
       "      <td>12</td>\n",
       "      <td>50</td>\n",
       "      <td>Above-7</td>\n",
       "      <td>M</td>\n",
       "    </tr>\n",
       "  </tbody>\n",
       "</table>\n",
       "</div>"
      ],
      "text/plain": [
       "  gender  raisedhands  VisITedResources  AnnouncementsView  Discussion  \\\n",
       "0      M           15                16                  2          20   \n",
       "1      M           20                20                  3          25   \n",
       "2      M           10                 7                  0          30   \n",
       "3      M           30                25                  5          35   \n",
       "4      M           40                50                 12          50   \n",
       "\n",
       "  StudentAbsenceDays Class  \n",
       "0            Under-7     M  \n",
       "1            Under-7     M  \n",
       "2            Above-7     L  \n",
       "3            Above-7     L  \n",
       "4            Above-7     M  "
      ]
     },
     "execution_count": 2,
     "metadata": {},
     "output_type": "execute_result"
    }
   ],
   "source": [
    "Stud = A[['gender','raisedhands','VisITedResources','AnnouncementsView','Discussion','StudentAbsenceDays', 'Class']]\n",
    "Stud.head()"
   ]
  },
  {
   "cell_type": "code",
   "execution_count": 3,
   "metadata": {},
   "outputs": [
    {
     "name": "stderr",
     "output_type": "stream",
     "text": [
      "C:\\Users\\YGIN\\Anaconda3\\lib\\site-packages\\ipykernel_launcher.py:1: SettingWithCopyWarning: \n",
      "A value is trying to be set on a copy of a slice from a DataFrame.\n",
      "Try using .loc[row_indexer,col_indexer] = value instead\n",
      "\n",
      "See the caveats in the documentation: https://pandas.pydata.org/pandas-docs/stable/user_guide/indexing.html#returning-a-view-versus-a-copy\n",
      "  \"\"\"Entry point for launching an IPython kernel.\n"
     ]
    },
    {
     "data": {
      "text/plain": [
       "raisedhands  Class\n",
       "0            L        0.534314\n",
       "             M        0.392157\n",
       "             H        0.073529\n",
       "1            M        0.577778\n",
       "             H        0.288889\n",
       "             L        0.133333\n",
       "2            H        0.543011\n",
       "             M        0.424731\n",
       "             L        0.032258\n",
       "Name: Class, dtype: float64"
      ]
     },
     "execution_count": 3,
     "metadata": {},
     "output_type": "execute_result"
    }
   ],
   "source": [
    "Stud['raisedhands'] = pd.cut(Stud.raisedhands, bins=3,labels=np.arange(3), right=False)\n",
    "Stud.groupby(['raisedhands'])['Class'].value_counts(normalize=True)"
   ]
  },
  {
   "cell_type": "markdown",
   "metadata": {},
   "source": [
    "\n",
    "\n",
    "So, it seems that students which has low levels of raising hands are most likely to have Low classification. In the otherside, high frequency of raising hands are linked to higher classification.\n",
    "\n",
    "Next, we're going to check the act of visiting the course resources.\n"
   ]
  },
  {
   "cell_type": "code",
   "execution_count": 24,
   "metadata": {},
   "outputs": [
    {
     "name": "stderr",
     "output_type": "stream",
     "text": [
      "C:\\Users\\YGIN\\Anaconda3\\lib\\site-packages\\ipykernel_launcher.py:1: SettingWithCopyWarning: \n",
      "A value is trying to be set on a copy of a slice from a DataFrame.\n",
      "Try using .loc[row_indexer,col_indexer] = value instead\n",
      "\n",
      "See the caveats in the documentation: https://pandas.pydata.org/pandas-docs/stable/user_guide/indexing.html#returning-a-view-versus-a-copy\n",
      "  \"\"\"Entry point for launching an IPython kernel.\n"
     ]
    },
    {
     "data": {
      "text/plain": [
       "VisITedResources  Class\n",
       "0                 L        0.656250\n",
       "                  M        0.293750\n",
       "                  H        0.050000\n",
       "1                 M        0.560976\n",
       "                  H        0.231707\n",
       "                  L        0.207317\n",
       "2                 M        0.495798\n",
       "                  H        0.483193\n",
       "                  L        0.021008\n",
       "Name: Class, dtype: float64"
      ]
     },
     "execution_count": 24,
     "metadata": {},
     "output_type": "execute_result"
    }
   ],
   "source": [
    "Stud['VisITedResources'] = pd.cut(Stud.VisITedResources, bins=3, labels=np.arange(3), right=False)\n",
    "Stud.groupby(['VisITedResources'])['Class'].value_counts(normalize=True)"
   ]
  },
  {
   "cell_type": "markdown",
   "metadata": {},
   "source": [
    "\n",
    "\n",
    "Low levels of resource exploring means lower levels of classification. High levels of visiting resources are linked to higher classification.\n"
   ]
  },
  {
   "cell_type": "code",
   "execution_count": 26,
   "metadata": {},
   "outputs": [
    {
     "name": "stderr",
     "output_type": "stream",
     "text": [
      "C:\\Users\\YGIN\\Anaconda3\\lib\\site-packages\\ipykernel_launcher.py:1: SettingWithCopyWarning: \n",
      "A value is trying to be set on a copy of a slice from a DataFrame.\n",
      "Try using .loc[row_indexer,col_indexer] = value instead\n",
      "\n",
      "See the caveats in the documentation: https://pandas.pydata.org/pandas-docs/stable/user_guide/indexing.html#returning-a-view-versus-a-copy\n",
      "  \"\"\"Entry point for launching an IPython kernel.\n"
     ]
    },
    {
     "data": {
      "text/plain": [
       "AnnouncementsView  Class\n",
       "0                  L        0.468354\n",
       "                   M        0.388186\n",
       "                   H        0.143460\n",
       "1                  M        0.506667\n",
       "                   H        0.393333\n",
       "                   L        0.100000\n",
       "2                  H        0.526882\n",
       "                   M        0.462366\n",
       "                   L        0.010753\n",
       "Name: Class, dtype: float64"
      ]
     },
     "execution_count": 26,
     "metadata": {},
     "output_type": "execute_result"
    }
   ],
   "source": [
    "Stud['AnnouncementsView'] = pd.cut(Stud.AnnouncementsView, bins=3, labels=np.arange(3), right=False)\n",
    "Stud.groupby(['AnnouncementsView'])['Class'].value_counts(normalize=True)"
   ]
  },
  {
   "cell_type": "markdown",
   "metadata": {},
   "source": [
    "The act of visualizing the announcements makes the students more prepared for the tasks and they are most likely to plan the assessments of the week. High visualization frequency is lined, indeed, to better classifications."
   ]
  },
  {
   "cell_type": "code",
   "execution_count": 162,
   "metadata": {},
   "outputs": [
    {
     "data": {
      "text/plain": [
       "Discussion  Class\n",
       "0           M        0.416290\n",
       "            L        0.371041\n",
       "            H        0.212670\n",
       "1           M        0.538462\n",
       "            H        0.253846\n",
       "            L        0.207692\n",
       "2           H        0.480620\n",
       "            M        0.379845\n",
       "            L        0.139535\n",
       "Name: Class, dtype: float64"
      ]
     },
     "execution_count": 162,
     "metadata": {},
     "output_type": "execute_result"
    }
   ],
   "source": [
    "Stud['Discussion'] = pd.cut(Stud.Discussion, bins=3, labels=np.arange(3), right=False)\n",
    "Stud.groupby(['Discussion'])['Class'].value_counts(normalize=True)"
   ]
  },
  {
   "cell_type": "markdown",
   "metadata": {},
   "source": [
    "\n",
    "\n",
    "Suprisingly, discussion frequency is weakly linked to higher results, at least, directly. Of course, there are higher interactions levels ocrring with Higher graded students but the data shows that discussion is a secondary act"
   ]
  },
  {
   "cell_type": "code",
   "execution_count": 165,
   "metadata": {},
   "outputs": [
    {
     "data": {
      "text/plain": [
       "StudentAbsenceDays  Class\n",
       "Above-7             L        0.607330\n",
       "                    M        0.371728\n",
       "                    H        0.020942\n",
       "Under-7             M        0.484429\n",
       "                    H        0.477509\n",
       "                    L        0.038062\n",
       "Name: Class, dtype: float64"
      ]
     },
     "execution_count": 165,
     "metadata": {},
     "output_type": "execute_result"
    }
   ],
   "source": [
    "Stud.groupby(['StudentAbsenceDays'])['Class'].value_counts(normalize=True)"
   ]
  },
  {
   "cell_type": "markdown",
   "metadata": {},
   "source": [
    "\n",
    "\n",
    "As expected, the lower the absence of the student, the higher tends to become their classification.\n"
   ]
  },
  {
   "cell_type": "markdown",
   "metadata": {},
   "source": [
    "# Feature Selection"
   ]
  },
  {
   "cell_type": "markdown",
   "metadata": {},
   "source": [
    "\n",
    "\n",
    "Now that we know what are the important features to understand the student's behavior and classification, we're going to build a dataset for a K-Means algorithm, which will show the student's cluster.\n",
    "\n",
    "To make the construction process easiest to understand, we're going to reimplement the dataset building phases.\n"
   ]
  },
  {
   "cell_type": "code",
   "execution_count": 4,
   "metadata": {},
   "outputs": [
    {
     "data": {
      "text/html": [
       "<div>\n",
       "<style scoped>\n",
       "    .dataframe tbody tr th:only-of-type {\n",
       "        vertical-align: middle;\n",
       "    }\n",
       "\n",
       "    .dataframe tbody tr th {\n",
       "        vertical-align: top;\n",
       "    }\n",
       "\n",
       "    .dataframe thead th {\n",
       "        text-align: right;\n",
       "    }\n",
       "</style>\n",
       "<table border=\"1\" class=\"dataframe\">\n",
       "  <thead>\n",
       "    <tr style=\"text-align: right;\">\n",
       "      <th></th>\n",
       "      <th>gender</th>\n",
       "      <th>raisedhands</th>\n",
       "      <th>VisITedResources</th>\n",
       "      <th>AnnouncementsView</th>\n",
       "      <th>Discussion</th>\n",
       "      <th>StudentAbsenceDays</th>\n",
       "      <th>Class</th>\n",
       "    </tr>\n",
       "  </thead>\n",
       "  <tbody>\n",
       "    <tr>\n",
       "      <th>475</th>\n",
       "      <td>F</td>\n",
       "      <td>5</td>\n",
       "      <td>4</td>\n",
       "      <td>5</td>\n",
       "      <td>8</td>\n",
       "      <td>Above-7</td>\n",
       "      <td>L</td>\n",
       "    </tr>\n",
       "    <tr>\n",
       "      <th>476</th>\n",
       "      <td>F</td>\n",
       "      <td>50</td>\n",
       "      <td>77</td>\n",
       "      <td>14</td>\n",
       "      <td>28</td>\n",
       "      <td>Under-7</td>\n",
       "      <td>M</td>\n",
       "    </tr>\n",
       "    <tr>\n",
       "      <th>477</th>\n",
       "      <td>F</td>\n",
       "      <td>55</td>\n",
       "      <td>74</td>\n",
       "      <td>25</td>\n",
       "      <td>29</td>\n",
       "      <td>Under-7</td>\n",
       "      <td>M</td>\n",
       "    </tr>\n",
       "    <tr>\n",
       "      <th>478</th>\n",
       "      <td>F</td>\n",
       "      <td>30</td>\n",
       "      <td>17</td>\n",
       "      <td>14</td>\n",
       "      <td>57</td>\n",
       "      <td>Above-7</td>\n",
       "      <td>L</td>\n",
       "    </tr>\n",
       "    <tr>\n",
       "      <th>479</th>\n",
       "      <td>F</td>\n",
       "      <td>35</td>\n",
       "      <td>14</td>\n",
       "      <td>23</td>\n",
       "      <td>62</td>\n",
       "      <td>Above-7</td>\n",
       "      <td>L</td>\n",
       "    </tr>\n",
       "  </tbody>\n",
       "</table>\n",
       "</div>"
      ],
      "text/plain": [
       "    gender  raisedhands  VisITedResources  AnnouncementsView  Discussion  \\\n",
       "475      F            5                 4                  5           8   \n",
       "476      F           50                77                 14          28   \n",
       "477      F           55                74                 25          29   \n",
       "478      F           30                17                 14          57   \n",
       "479      F           35                14                 23          62   \n",
       "\n",
       "    StudentAbsenceDays Class  \n",
       "475            Above-7     L  \n",
       "476            Under-7     M  \n",
       "477            Under-7     M  \n",
       "478            Above-7     L  \n",
       "479            Above-7     L  "
      ]
     },
     "execution_count": 4,
     "metadata": {},
     "output_type": "execute_result"
    }
   ],
   "source": [
    "Stud_2 = A[['gender','raisedhands','VisITedResources','AnnouncementsView','Discussion','StudentAbsenceDays', 'Class']]\n",
    "Stud_2.tail()\n"
   ]
  },
  {
   "cell_type": "code",
   "execution_count": 6,
   "metadata": {},
   "outputs": [
    {
     "data": {
      "text/plain": [
       "<matplotlib.axes._subplots.AxesSubplot at 0x26a573ba348>"
      ]
     },
     "execution_count": 6,
     "metadata": {},
     "output_type": "execute_result"
    },
    {
     "data": {
      "image/png": "[encoded data removed]",
      "text/plain": [
       "<Figure size 432x288 with 2 Axes>"
      ]
     },
     "metadata": {
      "needs_background": "light"
     },
     "output_type": "display_data"
    }
   ],
   "source": [
    "import seaborn as sb\n",
    "sb.heatmap(Stud_2.corr())"
   ]
  },
  {
   "cell_type": "markdown",
   "metadata": {},
   "source": [
    "This made clear that our best correlated features are raisedHands and visitedResources, which will compose our model dataset further."
   ]
  },
  {
   "cell_type": "markdown",
   "metadata": {},
   "source": [
    "# One Hot Encoding "
   ]
  },
  {
   "cell_type": "markdown",
   "metadata": {},
   "source": [
    "\n",
    "\n",
    "So, we need an one hot encoding on columns gender,absence and class\n"
   ]
  },
  {
   "cell_type": "code",
   "execution_count": 7,
   "metadata": {},
   "outputs": [],
   "source": [
    "Stud_2 = pd.concat([Stud_2,pd.get_dummies(Stud_2['gender'], prefix='gender_')], axis=1)\n",
    "Stud_2 = pd.concat([Stud_2,pd.get_dummies(Stud_2['StudentAbsenceDays'], prefix='absence_')], axis=1)\n",
    "Stud_2 = pd.concat([Stud_2,pd.get_dummies(Stud_2['Class'], prefix='class_')], axis=1)\n",
    "\n",
    "Stud_2.drop(['gender'], axis = 1,inplace=True)\n",
    "Stud_2.drop(['StudentAbsenceDays'], axis = 1,inplace=True)\n",
    "Stud_2.drop(['Class'], axis = 1,inplace=True)\n"
   ]
  },
  {
   "cell_type": "code",
   "execution_count": 8,
   "metadata": {},
   "outputs": [
    {
     "data": {
      "text/html": [
       "<div>\n",
       "<style scoped>\n",
       "    .dataframe tbody tr th:only-of-type {\n",
       "        vertical-align: middle;\n",
       "    }\n",
       "\n",
       "    .dataframe tbody tr th {\n",
       "        vertical-align: top;\n",
       "    }\n",
       "\n",
       "    .dataframe thead th {\n",
       "        text-align: right;\n",
       "    }\n",
       "</style>\n",
       "<table border=\"1\" class=\"dataframe\">\n",
       "  <thead>\n",
       "    <tr style=\"text-align: right;\">\n",
       "      <th></th>\n",
       "      <th>raisedhands</th>\n",
       "      <th>VisITedResources</th>\n",
       "      <th>AnnouncementsView</th>\n",
       "      <th>Discussion</th>\n",
       "      <th>gender__F</th>\n",
       "      <th>gender__M</th>\n",
       "      <th>absence__Above-7</th>\n",
       "      <th>absence__Under-7</th>\n",
       "      <th>class__H</th>\n",
       "      <th>class__L</th>\n",
       "      <th>class__M</th>\n",
       "    </tr>\n",
       "  </thead>\n",
       "  <tbody>\n",
       "    <tr>\n",
       "      <th>0</th>\n",
       "      <td>15</td>\n",
       "      <td>16</td>\n",
       "      <td>2</td>\n",
       "      <td>20</td>\n",
       "      <td>0</td>\n",
       "      <td>1</td>\n",
       "      <td>0</td>\n",
       "      <td>1</td>\n",
       "      <td>0</td>\n",
       "      <td>0</td>\n",
       "      <td>1</td>\n",
       "    </tr>\n",
       "    <tr>\n",
       "      <th>1</th>\n",
       "      <td>20</td>\n",
       "      <td>20</td>\n",
       "      <td>3</td>\n",
       "      <td>25</td>\n",
       "      <td>0</td>\n",
       "      <td>1</td>\n",
       "      <td>0</td>\n",
       "      <td>1</td>\n",
       "      <td>0</td>\n",
       "      <td>0</td>\n",
       "      <td>1</td>\n",
       "    </tr>\n",
       "    <tr>\n",
       "      <th>2</th>\n",
       "      <td>10</td>\n",
       "      <td>7</td>\n",
       "      <td>0</td>\n",
       "      <td>30</td>\n",
       "      <td>0</td>\n",
       "      <td>1</td>\n",
       "      <td>1</td>\n",
       "      <td>0</td>\n",
       "      <td>0</td>\n",
       "      <td>1</td>\n",
       "      <td>0</td>\n",
       "    </tr>\n",
       "    <tr>\n",
       "      <th>3</th>\n",
       "      <td>30</td>\n",
       "      <td>25</td>\n",
       "      <td>5</td>\n",
       "      <td>35</td>\n",
       "      <td>0</td>\n",
       "      <td>1</td>\n",
       "      <td>1</td>\n",
       "      <td>0</td>\n",
       "      <td>0</td>\n",
       "      <td>1</td>\n",
       "      <td>0</td>\n",
       "    </tr>\n",
       "    <tr>\n",
       "      <th>4</th>\n",
       "      <td>40</td>\n",
       "      <td>50</td>\n",
       "      <td>12</td>\n",
       "      <td>50</td>\n",
       "      <td>0</td>\n",
       "      <td>1</td>\n",
       "      <td>1</td>\n",
       "      <td>0</td>\n",
       "      <td>0</td>\n",
       "      <td>0</td>\n",
       "      <td>1</td>\n",
       "    </tr>\n",
       "  </tbody>\n",
       "</table>\n",
       "</div>"
      ],
      "text/plain": [
       "   raisedhands  VisITedResources  AnnouncementsView  Discussion  gender__F  \\\n",
       "0           15                16                  2          20          0   \n",
       "1           20                20                  3          25          0   \n",
       "2           10                 7                  0          30          0   \n",
       "3           30                25                  5          35          0   \n",
       "4           40                50                 12          50          0   \n",
       "\n",
       "   gender__M  absence__Above-7  absence__Under-7  class__H  class__L  class__M  \n",
       "0          1                 0                 1         0         0         1  \n",
       "1          1                 0                 1         0         0         1  \n",
       "2          1                 1                 0         0         1         0  \n",
       "3          1                 1                 0         0         1         0  \n",
       "4          1                 1                 0         0         0         1  "
      ]
     },
     "execution_count": 8,
     "metadata": {},
     "output_type": "execute_result"
    }
   ],
   "source": [
    "Stud_2.head()"
   ]
  },
  {
   "cell_type": "markdown",
   "metadata": {},
   "source": [
    "# Modelling"
   ]
  },
  {
   "cell_type": "code",
   "execution_count": 8,
   "metadata": {},
   "outputs": [
    {
     "data": {
      "text/plain": [
       "array([[0.15      , 0.16161616],\n",
       "       [0.2       , 0.2020202 ],\n",
       "       [0.1       , 0.07070707],\n",
       "       [0.3       , 0.25252525],\n",
       "       [0.4       , 0.50505051]])"
      ]
     },
     "execution_count": 8,
     "metadata": {},
     "output_type": "execute_result"
    }
   ],
   "source": [
    "from sklearn.cluster import KMeans\n",
    "from sklearn import preprocessing\n",
    "\n",
    "X = Stud_2[['raisedhands', 'VisITedResources']].values\n",
    "#NORMALIZE OUR ARRAY\n",
    "min_max_scaler = preprocessing.MinMaxScaler()\n",
    "x_scaled = min_max_scaler.fit_transform(X)\n",
    "#GET X AXIS\n",
    "X = pd.DataFrame(x_scaled).values\n",
    "X[:5]"
   ]
  },
  {
   "cell_type": "markdown",
   "metadata": {},
   "source": [
    "Using the Elbow Method to find the best K for Kmeans based on our data"
   ]
  },
  {
   "cell_type": "code",
   "execution_count": 181,
   "metadata": {},
   "outputs": [
    {
     "data": {
      "image/png": "[encoded data removed]",
      "text/plain": [
       "<Figure size 432x288 with 1 Axes>"
      ]
     },
     "metadata": {
      "needs_background": "light"
     },
     "output_type": "display_data"
    }
   ],
   "source": [
    "wcss = []\n",
    " \n",
    "for i in range(1, 11):\n",
    "    kmeans = KMeans(n_clusters = i, init = 'k-means++')\n",
    "    kmeans.fit(X)\n",
    "    #print (i,kmeans.inertia_)\n",
    "    wcss.append(kmeans.inertia_)  \n",
    "plt.plot(range(1, 11), wcss)\n",
    "plt.title('Elbow Method')\n",
    "plt.xlabel('N of Clusters')\n",
    "plt.ylabel('WSS') #within cluster sum of squares\n",
    "plt.show()"
   ]
  },
  {
   "cell_type": "markdown",
   "metadata": {},
   "source": [
    "So, the ideal K is 3. Now we are going to build the Kmeans with k=3"
   ]
  },
  {
   "cell_type": "code",
   "execution_count": 182,
   "metadata": {},
   "outputs": [
    {
     "data": {
      "text/plain": [
       "KMeans(algorithm='auto', copy_x=True, init='k-means++', max_iter=300,\n",
       "       n_clusters=3, n_init=10, n_jobs=None, precompute_distances='auto',\n",
       "       random_state=None, tol=0.0001, verbose=0)"
      ]
     },
     "execution_count": 182,
     "metadata": {},
     "output_type": "execute_result"
    }
   ],
   "source": [
    "kmeans = KMeans(n_clusters = 3, init = 'k-means++')\n",
    "kmeans.fit(X)"
   ]
  },
  {
   "cell_type": "code",
   "execution_count": 183,
   "metadata": {},
   "outputs": [],
   "source": [
    "k_means_labels = kmeans.labels_\n",
    "k_means_cluster_centers = kmeans.cluster_centers_"
   ]
  },
  {
   "cell_type": "code",
   "execution_count": 193,
   "metadata": {},
   "outputs": [
    {
     "data": {
      "image/png": "[encoded data removed]",
      "text/plain": [
       "<Figure size 432x288 with 1 Axes>"
      ]
     },
     "metadata": {
      "needs_background": "light"
     },
     "output_type": "display_data"
    }
   ],
   "source": [
    "import matplotlib.pyplot as plt\n",
    "\n",
    "plt.scatter(X[:, 0], X[:,1], s = 40, c = kmeans.labels_)\n",
    "plt.scatter(kmeans.cluster_centers_[:, 0], kmeans.cluster_centers_[:, 1], s = 50, c = 'red',label = 'Centroids')\n",
    "plt.title('Students Clustering')\n",
    "plt.xlabel('RaisedHands')\n",
    "plt.ylabel('VisITedResources')\n",
    "plt.legend()\n",
    "\n",
    "plt.show()"
   ]
  },
  {
   "cell_type": "markdown",
   "metadata": {},
   "source": [
    "\n",
    "\n",
    "So, now we can see 3 clusters:\n",
    "\n",
    "    High applied Students\n",
    "    Mid Applied Students\n",
    "    Low Applied Students\n",
    "\n"
   ]
  },
  {
   "cell_type": "markdown",
   "metadata": {},
   "source": [
    "# Building a supervised algorithm"
   ]
  },
  {
   "cell_type": "markdown",
   "metadata": {},
   "source": [
    "Now it's time to build a model to predict the student's classification based on his actions on the Online Learning enviroment.\n",
    "\n",
    "    K Nearest Neighbor(KNN)\n",
    "    Decision Tree\n",
    "    Support Vector Machine\n",
    "    Logistic Regression\n",
    "\n"
   ]
  },
  {
   "cell_type": "code",
   "execution_count": 51,
   "metadata": {},
   "outputs": [
    {
     "data": {
      "text/html": [
       "<div>\n",
       "<style scoped>\n",
       "    .dataframe tbody tr th:only-of-type {\n",
       "        vertical-align: middle;\n",
       "    }\n",
       "\n",
       "    .dataframe tbody tr th {\n",
       "        vertical-align: top;\n",
       "    }\n",
       "\n",
       "    .dataframe thead th {\n",
       "        text-align: right;\n",
       "    }\n",
       "</style>\n",
       "<table border=\"1\" class=\"dataframe\">\n",
       "  <thead>\n",
       "    <tr style=\"text-align: right;\">\n",
       "      <th></th>\n",
       "      <th>raisedhands</th>\n",
       "      <th>VisITedResources</th>\n",
       "      <th>AnnouncementsView</th>\n",
       "      <th>Discussion</th>\n",
       "      <th>Class</th>\n",
       "    </tr>\n",
       "  </thead>\n",
       "  <tbody>\n",
       "    <tr>\n",
       "      <th>0</th>\n",
       "      <td>15</td>\n",
       "      <td>16</td>\n",
       "      <td>2</td>\n",
       "      <td>20</td>\n",
       "      <td>M</td>\n",
       "    </tr>\n",
       "    <tr>\n",
       "      <th>1</th>\n",
       "      <td>20</td>\n",
       "      <td>20</td>\n",
       "      <td>3</td>\n",
       "      <td>25</td>\n",
       "      <td>M</td>\n",
       "    </tr>\n",
       "    <tr>\n",
       "      <th>2</th>\n",
       "      <td>10</td>\n",
       "      <td>7</td>\n",
       "      <td>0</td>\n",
       "      <td>30</td>\n",
       "      <td>L</td>\n",
       "    </tr>\n",
       "    <tr>\n",
       "      <th>3</th>\n",
       "      <td>30</td>\n",
       "      <td>25</td>\n",
       "      <td>5</td>\n",
       "      <td>35</td>\n",
       "      <td>L</td>\n",
       "    </tr>\n",
       "    <tr>\n",
       "      <th>4</th>\n",
       "      <td>40</td>\n",
       "      <td>50</td>\n",
       "      <td>12</td>\n",
       "      <td>50</td>\n",
       "      <td>M</td>\n",
       "    </tr>\n",
       "  </tbody>\n",
       "</table>\n",
       "</div>"
      ],
      "text/plain": [
       "   raisedhands  VisITedResources  AnnouncementsView  Discussion Class\n",
       "0           15                16                  2          20     M\n",
       "1           20                20                  3          25     M\n",
       "2           10                 7                  0          30     L\n",
       "3           30                25                  5          35     L\n",
       "4           40                50                 12          50     M"
      ]
     },
     "execution_count": 51,
     "metadata": {},
     "output_type": "execute_result"
    }
   ],
   "source": [
    "Stud_3 = A[['raisedhands','VisITedResources','AnnouncementsView','Discussion','Class']]\n",
    "Stud_3.head()"
   ]
  },
  {
   "cell_type": "code",
   "execution_count": 356,
   "metadata": {},
   "outputs": [],
   "source": [
    "X = Stud_3[['raisedhands', 'VisITedResources', 'AnnouncementsView', 'Discussion']]\n",
    "Y = Stud_3[['Class']]"
   ]
  },
  {
   "cell_type": "code",
   "execution_count": 357,
   "metadata": {},
   "outputs": [
    {
     "data": {
      "text/html": [
       "<div>\n",
       "<style scoped>\n",
       "    .dataframe tbody tr th:only-of-type {\n",
       "        vertical-align: middle;\n",
       "    }\n",
       "\n",
       "    .dataframe tbody tr th {\n",
       "        vertical-align: top;\n",
       "    }\n",
       "\n",
       "    .dataframe thead th {\n",
       "        text-align: right;\n",
       "    }\n",
       "</style>\n",
       "<table border=\"1\" class=\"dataframe\">\n",
       "  <thead>\n",
       "    <tr style=\"text-align: right;\">\n",
       "      <th></th>\n",
       "      <th>Class</th>\n",
       "    </tr>\n",
       "  </thead>\n",
       "  <tbody>\n",
       "    <tr>\n",
       "      <th>0</th>\n",
       "      <td>M</td>\n",
       "    </tr>\n",
       "    <tr>\n",
       "      <th>1</th>\n",
       "      <td>M</td>\n",
       "    </tr>\n",
       "    <tr>\n",
       "      <th>2</th>\n",
       "      <td>L</td>\n",
       "    </tr>\n",
       "    <tr>\n",
       "      <th>3</th>\n",
       "      <td>L</td>\n",
       "    </tr>\n",
       "    <tr>\n",
       "      <th>4</th>\n",
       "      <td>M</td>\n",
       "    </tr>\n",
       "  </tbody>\n",
       "</table>\n",
       "</div>"
      ],
      "text/plain": [
       "  Class\n",
       "0     M\n",
       "1     M\n",
       "2     L\n",
       "3     L\n",
       "4     M"
      ]
     },
     "execution_count": 357,
     "metadata": {},
     "output_type": "execute_result"
    }
   ],
   "source": [
    "X.head()\n",
    "Y.head()"
   ]
  },
  {
   "cell_type": "markdown",
   "metadata": {},
   "source": [
    "### KNN"
   ]
  },
  {
   "cell_type": "code",
   "execution_count": 358,
   "metadata": {},
   "outputs": [],
   "source": [
    "from sklearn.model_selection import train_test_split\n",
    "xtrain,xtest,ytrain,ytest=train_test_split(X,Y,test_size=0.2,random_state=4)"
   ]
  },
  {
   "cell_type": "code",
   "execution_count": 359,
   "metadata": {},
   "outputs": [],
   "source": [
    "from sklearn.neighbors import KNeighborsClassifier\n",
    "knn = KNeighborsClassifier()"
   ]
  },
  {
   "cell_type": "code",
   "execution_count": 363,
   "metadata": {},
   "outputs": [],
   "source": [
    "X = Stud_3[['raisedhands', 'VisITedResources', 'AnnouncementsView', 'Discussion']]\n",
    "Y = Stud_3[['Class']]\n",
    "\n",
    "from sklearn.model_selection import train_test_split\n",
    "xtrain,xtest,ytrain,ytest=train_test_split(X,Y,test_size=0.2,random_state=20)                                                                             "
   ]
  },
  {
   "cell_type": "code",
   "execution_count": 364,
   "metadata": {},
   "outputs": [
    {
     "name": "stdout",
     "output_type": "stream",
     "text": [
      "Fitting 5 folds for each of 64 candidates, totalling 320 fits\n",
      "[CV] leaf_size=2, n_neighbors=2 ......................................\n",
      "[CV] ....................... leaf_size=2, n_neighbors=2, total=   0.0s\n",
      "[CV] leaf_size=2, n_neighbors=2 ......................................\n",
      "[CV] ....................... leaf_size=2, n_neighbors=2, total=   0.0s\n",
      "[CV] leaf_size=2, n_neighbors=2 ......................................\n",
      "[CV] ....................... leaf_size=2, n_neighbors=2, total=   0.0s\n",
      "[CV] leaf_size=2, n_neighbors=2 ......................................\n",
      "[CV] ....................... leaf_size=2, n_neighbors=2, total=   0.0s\n",
      "[CV] leaf_size=2, n_neighbors=2 ......................................\n",
      "[CV] ....................... leaf_size=2, n_neighbors=2, total=   0.0s\n",
      "[CV] leaf_size=2, n_neighbors=3 ......................................\n",
      "[CV] ....................... leaf_size=2, n_neighbors=3, total=   0.0s\n",
      "[CV] leaf_size=2, n_neighbors=3 ......................................\n",
      "[CV] ....................... leaf_size=2, n_neighbors=3, total=   0.0s\n",
      "[CV] leaf_size=2, n_neighbors=3 ......................................\n",
      "[CV] ....................... leaf_size=2, n_neighbors=3, total=   0.0s\n",
      "[CV] leaf_size=2, n_neighbors=3 ......................................\n",
      "[CV] ....................... leaf_size=2, n_neighbors=3, total=   0.0s\n",
      "[CV] leaf_size=2, n_neighbors=3 ......................................\n",
      "[CV] ....................... leaf_size=2, n_neighbors=3, total=   0.0s\n",
      "[CV] leaf_size=2, n_neighbors=4 ......................................\n",
      "[CV] ....................... leaf_size=2, n_neighbors=4, total=   0.0s\n",
      "[CV] leaf_size=2, n_neighbors=4 ......................................\n",
      "[CV] ....................... leaf_size=2, n_neighbors=4, total=   0.0s\n",
      "[CV] leaf_size=2, n_neighbors=4 ......................................\n",
      "[CV] ....................... leaf_size=2, n_neighbors=4, total=   0.0s\n",
      "[CV] leaf_size=2, n_neighbors=4 ......................................\n",
      "[CV] ....................... leaf_size=2, n_neighbors=4, total=   0.0s\n",
      "[CV] leaf_size=2, n_neighbors=4 ......................................\n",
      "[CV] ....................... leaf_size=2, n_neighbors=4, total=   0.0s\n",
      "[CV] leaf_size=2, n_neighbors=5 ......................................\n",
      "[CV] ....................... leaf_size=2, n_neighbors=5, total=   0.0s\n",
      "[CV] leaf_size=2, n_neighbors=5 ......................................\n",
      "[CV] ....................... leaf_size=2, n_neighbors=5, total=   0.0s\n",
      "[CV] leaf_size=2, n_neighbors=5 ......................................\n",
      "[CV] ....................... leaf_size=2, n_neighbors=5, total=   0.0s\n",
      "[CV] leaf_size=2, n_neighbors=5 ......................................\n",
      "[CV] ....................... leaf_size=2, n_neighbors=5, total=   0.0s\n",
      "[CV] leaf_size=2, n_neighbors=5 ......................................\n",
      "[CV] ....................... leaf_size=2, n_neighbors=5, total=   0.0s\n",
      "[CV] leaf_size=2, n_neighbors=6 ......................................\n",
      "[CV] ....................... leaf_size=2, n_neighbors=6, total=   0.0s\n",
      "[CV] leaf_size=2, n_neighbors=6 ......................................\n",
      "[CV] ....................... leaf_size=2, n_neighbors=6, total=   0.0s\n",
      "[CV] leaf_size=2, n_neighbors=6 ......................................\n",
      "[CV] ....................... leaf_size=2, n_neighbors=6, total=   0.0s\n",
      "[CV] leaf_size=2, n_neighbors=6 ......................................\n",
      "[CV] ....................... leaf_size=2, n_neighbors=6, total=   0.0s\n",
      "[CV] leaf_size=2, n_neighbors=6 ......................................\n",
      "[CV] ....................... leaf_size=2, n_neighbors=6, total=   0.0s\n",
      "[CV] leaf_size=2, n_neighbors=7 ......................................\n"
     ]
    },
    {
     "name": "stderr",
     "output_type": "stream",
     "text": [
      "[Parallel(n_jobs=1)]: Using backend SequentialBackend with 1 concurrent workers.\n",
      "[Parallel(n_jobs=1)]: Done   1 out of   1 | elapsed:    0.0s remaining:    0.0s\n"
     ]
    },
    {
     "name": "stdout",
     "output_type": "stream",
     "text": [
      "[CV] ....................... leaf_size=2, n_neighbors=7, total=   0.0s\n",
      "[CV] leaf_size=2, n_neighbors=7 ......................................\n",
      "[CV] ....................... leaf_size=2, n_neighbors=7, total=   0.0s\n",
      "[CV] leaf_size=2, n_neighbors=7 ......................................\n",
      "[CV] ....................... leaf_size=2, n_neighbors=7, total=   0.0s\n",
      "[CV] leaf_size=2, n_neighbors=7 ......................................\n",
      "[CV] ....................... leaf_size=2, n_neighbors=7, total=   0.0s\n",
      "[CV] leaf_size=2, n_neighbors=7 ......................................\n",
      "[CV] ....................... leaf_size=2, n_neighbors=7, total=   0.0s\n",
      "[CV] leaf_size=2, n_neighbors=8 ......................................\n",
      "[CV] ....................... leaf_size=2, n_neighbors=8, total=   0.0s\n",
      "[CV] leaf_size=2, n_neighbors=8 ......................................\n",
      "[CV] ....................... leaf_size=2, n_neighbors=8, total=   0.0s\n",
      "[CV] leaf_size=2, n_neighbors=8 ......................................\n",
      "[CV] ....................... leaf_size=2, n_neighbors=8, total=   0.0s\n",
      "[CV] leaf_size=2, n_neighbors=8 ......................................\n",
      "[CV] ....................... leaf_size=2, n_neighbors=8, total=   0.0s\n",
      "[CV] leaf_size=2, n_neighbors=8 ......................................\n",
      "[CV] ....................... leaf_size=2, n_neighbors=8, total=   0.0s\n",
      "[CV] leaf_size=2, n_neighbors=9 ......................................\n",
      "[CV] ....................... leaf_size=2, n_neighbors=9, total=   0.0s\n",
      "[CV] leaf_size=2, n_neighbors=9 ......................................\n",
      "[CV] ....................... leaf_size=2, n_neighbors=9, total=   0.0s\n",
      "[CV] leaf_size=2, n_neighbors=9 ......................................\n",
      "[CV] ....................... leaf_size=2, n_neighbors=9, total=   0.0s\n",
      "[CV] leaf_size=2, n_neighbors=9 ......................................\n",
      "[CV] ....................... leaf_size=2, n_neighbors=9, total=   0.0s\n",
      "[CV] leaf_size=2, n_neighbors=9 ......................................\n",
      "[CV] ....................... leaf_size=2, n_neighbors=9, total=   0.0s\n",
      "[CV] leaf_size=3, n_neighbors=2 ......................................\n",
      "[CV] ....................... leaf_size=3, n_neighbors=2, total=   0.0s\n",
      "[CV] leaf_size=3, n_neighbors=2 ......................................\n",
      "[CV] ....................... leaf_size=3, n_neighbors=2, total=   0.0s\n",
      "[CV] leaf_size=3, n_neighbors=2 ......................................\n",
      "[CV] ....................... leaf_size=3, n_neighbors=2, total=   0.0s\n",
      "[CV] leaf_size=3, n_neighbors=2 ......................................\n",
      "[CV] ....................... leaf_size=3, n_neighbors=2, total=   0.0s\n",
      "[CV] leaf_size=3, n_neighbors=2 ......................................\n",
      "[CV] ....................... leaf_size=3, n_neighbors=2, total=   0.0s\n",
      "[CV] leaf_size=3, n_neighbors=3 ......................................\n",
      "[CV] ....................... leaf_size=3, n_neighbors=3, total=   0.0s\n",
      "[CV] leaf_size=3, n_neighbors=3 ......................................\n",
      "[CV] ....................... leaf_size=3, n_neighbors=3, total=   0.0s\n",
      "[CV] leaf_size=3, n_neighbors=3 ......................................\n",
      "[CV] ....................... leaf_size=3, n_neighbors=3, total=   0.0s\n",
      "[CV] leaf_size=3, n_neighbors=3 ......................................\n",
      "[CV] ....................... leaf_size=3, n_neighbors=3, total=   0.0s\n",
      "[CV] leaf_size=3, n_neighbors=3 ......................................\n",
      "[CV] ....................... leaf_size=3, n_neighbors=3, total=   0.0s\n",
      "[CV] leaf_size=3, n_neighbors=4 ......................................\n",
      "[CV] ....................... leaf_size=3, n_neighbors=4, total=   0.0s\n",
      "[CV] leaf_size=3, n_neighbors=4 ......................................\n",
      "[CV] ....................... leaf_size=3, n_neighbors=4, total=   0.0s\n",
      "[CV] leaf_size=3, n_neighbors=4 ......................................\n",
      "[CV] ....................... leaf_size=3, n_neighbors=4, total=   0.0s\n",
      "[CV] leaf_size=3, n_neighbors=4 ......................................\n",
      "[CV] ....................... leaf_size=3, n_neighbors=4, total=   0.0s\n",
      "[CV] leaf_size=3, n_neighbors=4 ......................................\n",
      "[CV] ....................... leaf_size=3, n_neighbors=4, total=   0.0s\n",
      "[CV] leaf_size=3, n_neighbors=5 ......................................\n",
      "[CV] ....................... leaf_size=3, n_neighbors=5, total=   0.0s\n",
      "[CV] leaf_size=3, n_neighbors=5 ......................................\n",
      "[CV] ....................... leaf_size=3, n_neighbors=5, total=   0.0s\n",
      "[CV] leaf_size=3, n_neighbors=5 ......................................\n",
      "[CV] ....................... leaf_size=3, n_neighbors=5, total=   0.0s\n",
      "[CV] leaf_size=3, n_neighbors=5 ......................................\n",
      "[CV] ....................... leaf_size=3, n_neighbors=5, total=   0.0s\n",
      "[CV] leaf_size=3, n_neighbors=5 ......................................\n",
      "[CV] ....................... leaf_size=3, n_neighbors=5, total=   0.0s\n",
      "[CV] leaf_size=3, n_neighbors=6 ......................................\n",
      "[CV] ....................... leaf_size=3, n_neighbors=6, total=   0.0s\n",
      "[CV] leaf_size=3, n_neighbors=6 ......................................\n",
      "[CV] ....................... leaf_size=3, n_neighbors=6, total=   0.0s\n",
      "[CV] leaf_size=3, n_neighbors=6 ......................................\n",
      "[CV] ....................... leaf_size=3, n_neighbors=6, total=   0.0s\n",
      "[CV] leaf_size=3, n_neighbors=6 ......................................\n",
      "[CV] ....................... leaf_size=3, n_neighbors=6, total=   0.0s\n",
      "[CV] leaf_size=3, n_neighbors=6 ......................................\n",
      "[CV] ....................... leaf_size=3, n_neighbors=6, total=   0.0s\n",
      "[CV] leaf_size=3, n_neighbors=7 ......................................\n",
      "[CV] ....................... leaf_size=3, n_neighbors=7, total=   0.0s\n",
      "[CV] leaf_size=3, n_neighbors=7 ......................................\n",
      "[CV] ....................... leaf_size=3, n_neighbors=7, total=   0.0s\n",
      "[CV] leaf_size=3, n_neighbors=7 ......................................\n",
      "[CV] ....................... leaf_size=3, n_neighbors=7, total=   0.0s\n",
      "[CV] leaf_size=3, n_neighbors=7 ......................................\n",
      "[CV] ....................... leaf_size=3, n_neighbors=7, total=   0.0s\n",
      "[CV] leaf_size=3, n_neighbors=7 ......................................\n",
      "[CV] ....................... leaf_size=3, n_neighbors=7, total=   0.0s\n",
      "[CV] leaf_size=3, n_neighbors=8 ......................................\n",
      "[CV] ....................... leaf_size=3, n_neighbors=8, total=   0.0s\n",
      "[CV] leaf_size=3, n_neighbors=8 ......................................\n",
      "[CV] ....................... leaf_size=3, n_neighbors=8, total=   0.0s\n",
      "[CV] leaf_size=3, n_neighbors=8 ......................................\n",
      "[CV] ....................... leaf_size=3, n_neighbors=8, total=   0.0s\n",
      "[CV] leaf_size=3, n_neighbors=8 ......................................\n",
      "[CV] ....................... leaf_size=3, n_neighbors=8, total=   0.0s\n",
      "[CV] leaf_size=3, n_neighbors=8 ......................................\n",
      "[CV] ....................... leaf_size=3, n_neighbors=8, total=   0.0s\n",
      "[CV] leaf_size=3, n_neighbors=9 ......................................\n",
      "[CV] ....................... leaf_size=3, n_neighbors=9, total=   0.0s\n",
      "[CV] leaf_size=3, n_neighbors=9 ......................................\n",
      "[CV] ....................... leaf_size=3, n_neighbors=9, total=   0.0s\n",
      "[CV] leaf_size=3, n_neighbors=9 ......................................\n",
      "[CV] ....................... leaf_size=3, n_neighbors=9, total=   0.0s\n",
      "[CV] leaf_size=3, n_neighbors=9 ......................................\n",
      "[CV] ....................... leaf_size=3, n_neighbors=9, total=   0.0s\n",
      "[CV] leaf_size=3, n_neighbors=9 ......................................\n",
      "[CV] ....................... leaf_size=3, n_neighbors=9, total=   0.0s\n",
      "[CV] leaf_size=4, n_neighbors=2 ......................................\n",
      "[CV] ....................... leaf_size=4, n_neighbors=2, total=   0.0s\n",
      "[CV] leaf_size=4, n_neighbors=2 ......................................\n",
      "[CV] ....................... leaf_size=4, n_neighbors=2, total=   0.0s\n",
      "[CV] leaf_size=4, n_neighbors=2 ......................................\n",
      "[CV] ....................... leaf_size=4, n_neighbors=2, total=   0.0s\n",
      "[CV] leaf_size=4, n_neighbors=2 ......................................\n",
      "[CV] ....................... leaf_size=4, n_neighbors=2, total=   0.0s\n",
      "[CV] leaf_size=4, n_neighbors=2 ......................................\n",
      "[CV] ....................... leaf_size=4, n_neighbors=2, total=   0.0s\n",
      "[CV] leaf_size=4, n_neighbors=3 ......................................\n",
      "[CV] ....................... leaf_size=4, n_neighbors=3, total=   0.0s\n",
      "[CV] leaf_size=4, n_neighbors=3 ......................................\n",
      "[CV] ....................... leaf_size=4, n_neighbors=3, total=   0.0s\n",
      "[CV] leaf_size=4, n_neighbors=3 ......................................\n",
      "[CV] ....................... leaf_size=4, n_neighbors=3, total=   0.0s\n",
      "[CV] leaf_size=4, n_neighbors=3 ......................................\n",
      "[CV] ....................... leaf_size=4, n_neighbors=3, total=   0.0s\n",
      "[CV] leaf_size=4, n_neighbors=3 ......................................\n",
      "[CV] ....................... leaf_size=4, n_neighbors=3, total=   0.0s\n",
      "[CV] leaf_size=4, n_neighbors=4 ......................................\n",
      "[CV] ....................... leaf_size=4, n_neighbors=4, total=   0.0s\n",
      "[CV] leaf_size=4, n_neighbors=4 ......................................\n",
      "[CV] ....................... leaf_size=4, n_neighbors=4, total=   0.0s\n",
      "[CV] leaf_size=4, n_neighbors=4 ......................................\n",
      "[CV] ....................... leaf_size=4, n_neighbors=4, total=   0.0s\n",
      "[CV] leaf_size=4, n_neighbors=4 ......................................\n",
      "[CV] ....................... leaf_size=4, n_neighbors=4, total=   0.0s\n",
      "[CV] leaf_size=4, n_neighbors=4 ......................................\n",
      "[CV] ....................... leaf_size=4, n_neighbors=4, total=   0.0s\n",
      "[CV] leaf_size=4, n_neighbors=5 ......................................\n",
      "[CV] ....................... leaf_size=4, n_neighbors=5, total=   0.0s\n",
      "[CV] leaf_size=4, n_neighbors=5 ......................................\n",
      "[CV] ....................... leaf_size=4, n_neighbors=5, total=   0.0s\n",
      "[CV] leaf_size=4, n_neighbors=5 ......................................\n",
      "[CV] ....................... leaf_size=4, n_neighbors=5, total=   0.0s\n",
      "[CV] leaf_size=4, n_neighbors=5 ......................................\n",
      "[CV] ....................... leaf_size=4, n_neighbors=5, total=   0.0s\n",
      "[CV] leaf_size=4, n_neighbors=5 ......................................\n",
      "[CV] ....................... leaf_size=4, n_neighbors=5, total=   0.0s\n",
      "[CV] leaf_size=4, n_neighbors=6 ......................................\n",
      "[CV] ....................... leaf_size=4, n_neighbors=6, total=   0.0s\n",
      "[CV] leaf_size=4, n_neighbors=6 ......................................\n",
      "[CV] ....................... leaf_size=4, n_neighbors=6, total=   0.0s\n",
      "[CV] leaf_size=4, n_neighbors=6 ......................................\n",
      "[CV] ....................... leaf_size=4, n_neighbors=6, total=   0.0s\n",
      "[CV] leaf_size=4, n_neighbors=6 ......................................\n",
      "[CV] ....................... leaf_size=4, n_neighbors=6, total=   0.0s\n",
      "[CV] leaf_size=4, n_neighbors=6 ......................................\n",
      "[CV] ....................... leaf_size=4, n_neighbors=6, total=   0.0s\n",
      "[CV] leaf_size=4, n_neighbors=7 ......................................\n",
      "[CV] ....................... leaf_size=4, n_neighbors=7, total=   0.0s\n",
      "[CV] leaf_size=4, n_neighbors=7 ......................................\n",
      "[CV] ....................... leaf_size=4, n_neighbors=7, total=   0.0s\n",
      "[CV] leaf_size=4, n_neighbors=7 ......................................\n",
      "[CV] ....................... leaf_size=4, n_neighbors=7, total=   0.0s\n",
      "[CV] leaf_size=4, n_neighbors=7 ......................................\n",
      "[CV] ....................... leaf_size=4, n_neighbors=7, total=   0.0s\n",
      "[CV] leaf_size=4, n_neighbors=7 ......................................\n",
      "[CV] ....................... leaf_size=4, n_neighbors=7, total=   0.0s\n",
      "[CV] leaf_size=4, n_neighbors=8 ......................................\n",
      "[CV] ....................... leaf_size=4, n_neighbors=8, total=   0.0s\n",
      "[CV] leaf_size=4, n_neighbors=8 ......................................\n"
     ]
    },
    {
     "name": "stdout",
     "output_type": "stream",
     "text": [
      "[CV] ....................... leaf_size=4, n_neighbors=8, total=   0.0s\n",
      "[CV] leaf_size=4, n_neighbors=8 ......................................\n",
      "[CV] ....................... leaf_size=4, n_neighbors=8, total=   0.0s\n",
      "[CV] leaf_size=4, n_neighbors=8 ......................................\n",
      "[CV] ....................... leaf_size=4, n_neighbors=8, total=   0.0s\n",
      "[CV] leaf_size=4, n_neighbors=8 ......................................\n",
      "[CV] ....................... leaf_size=4, n_neighbors=8, total=   0.0s\n",
      "[CV] leaf_size=4, n_neighbors=9 ......................................\n",
      "[CV] ....................... leaf_size=4, n_neighbors=9, total=   0.0s\n",
      "[CV] leaf_size=4, n_neighbors=9 ......................................\n",
      "[CV] ....................... leaf_size=4, n_neighbors=9, total=   0.0s\n",
      "[CV] leaf_size=4, n_neighbors=9 ......................................\n",
      "[CV] ....................... leaf_size=4, n_neighbors=9, total=   0.0s\n",
      "[CV] leaf_size=4, n_neighbors=9 ......................................\n",
      "[CV] ....................... leaf_size=4, n_neighbors=9, total=   0.0s\n",
      "[CV] leaf_size=4, n_neighbors=9 ......................................\n",
      "[CV] ....................... leaf_size=4, n_neighbors=9, total=   0.0s\n",
      "[CV] leaf_size=5, n_neighbors=2 ......................................\n",
      "[CV] ....................... leaf_size=5, n_neighbors=2, total=   0.0s\n",
      "[CV] leaf_size=5, n_neighbors=2 ......................................\n",
      "[CV] ....................... leaf_size=5, n_neighbors=2, total=   0.0s\n",
      "[CV] leaf_size=5, n_neighbors=2 ......................................\n",
      "[CV] ....................... leaf_size=5, n_neighbors=2, total=   0.0s\n",
      "[CV] leaf_size=5, n_neighbors=2 ......................................\n",
      "[CV] ....................... leaf_size=5, n_neighbors=2, total=   0.0s\n",
      "[CV] leaf_size=5, n_neighbors=2 ......................................\n",
      "[CV] ....................... leaf_size=5, n_neighbors=2, total=   0.0s\n",
      "[CV] leaf_size=5, n_neighbors=3 ......................................\n",
      "[CV] ....................... leaf_size=5, n_neighbors=3, total=   0.0s\n",
      "[CV] leaf_size=5, n_neighbors=3 ......................................\n",
      "[CV] ....................... leaf_size=5, n_neighbors=3, total=   0.0s\n",
      "[CV] leaf_size=5, n_neighbors=3 ......................................\n",
      "[CV] ....................... leaf_size=5, n_neighbors=3, total=   0.0s\n",
      "[CV] leaf_size=5, n_neighbors=3 ......................................\n",
      "[CV] ....................... leaf_size=5, n_neighbors=3, total=   0.0s\n",
      "[CV] leaf_size=5, n_neighbors=3 ......................................\n",
      "[CV] ....................... leaf_size=5, n_neighbors=3, total=   0.0s\n",
      "[CV] leaf_size=5, n_neighbors=4 ......................................\n",
      "[CV] ....................... leaf_size=5, n_neighbors=4, total=   0.0s\n",
      "[CV] leaf_size=5, n_neighbors=4 ......................................\n",
      "[CV] ....................... leaf_size=5, n_neighbors=4, total=   0.0s\n",
      "[CV] leaf_size=5, n_neighbors=4 ......................................\n",
      "[CV] ....................... leaf_size=5, n_neighbors=4, total=   0.0s\n",
      "[CV] leaf_size=5, n_neighbors=4 ......................................\n",
      "[CV] ....................... leaf_size=5, n_neighbors=4, total=   0.0s\n",
      "[CV] leaf_size=5, n_neighbors=4 ......................................\n",
      "[CV] ....................... leaf_size=5, n_neighbors=4, total=   0.0s\n",
      "[CV] leaf_size=5, n_neighbors=5 ......................................\n",
      "[CV] ....................... leaf_size=5, n_neighbors=5, total=   0.0s\n",
      "[CV] leaf_size=5, n_neighbors=5 ......................................\n",
      "[CV] ....................... leaf_size=5, n_neighbors=5, total=   0.0s\n",
      "[CV] leaf_size=5, n_neighbors=5 ......................................\n",
      "[CV] ....................... leaf_size=5, n_neighbors=5, total=   0.0s\n",
      "[CV] leaf_size=5, n_neighbors=5 ......................................\n",
      "[CV] ....................... leaf_size=5, n_neighbors=5, total=   0.0s\n",
      "[CV] leaf_size=5, n_neighbors=5 ......................................\n",
      "[CV] ....................... leaf_size=5, n_neighbors=5, total=   0.0s\n",
      "[CV] leaf_size=5, n_neighbors=6 ......................................\n",
      "[CV] ....................... leaf_size=5, n_neighbors=6, total=   0.0s\n",
      "[CV] leaf_size=5, n_neighbors=6 ......................................\n",
      "[CV] ....................... leaf_size=5, n_neighbors=6, total=   0.0s\n",
      "[CV] leaf_size=5, n_neighbors=6 ......................................\n",
      "[CV] ....................... leaf_size=5, n_neighbors=6, total=   0.0s\n",
      "[CV] leaf_size=5, n_neighbors=6 ......................................\n",
      "[CV] ....................... leaf_size=5, n_neighbors=6, total=   0.0s\n",
      "[CV] leaf_size=5, n_neighbors=6 ......................................\n",
      "[CV] ....................... leaf_size=5, n_neighbors=6, total=   0.0s\n",
      "[CV] leaf_size=5, n_neighbors=7 ......................................\n",
      "[CV] ....................... leaf_size=5, n_neighbors=7, total=   0.0s\n",
      "[CV] leaf_size=5, n_neighbors=7 ......................................\n",
      "[CV] ....................... leaf_size=5, n_neighbors=7, total=   0.0s\n",
      "[CV] leaf_size=5, n_neighbors=7 ......................................\n",
      "[CV] ....................... leaf_size=5, n_neighbors=7, total=   0.0s\n",
      "[CV] leaf_size=5, n_neighbors=7 ......................................\n",
      "[CV] ....................... leaf_size=5, n_neighbors=7, total=   0.0s\n",
      "[CV] leaf_size=5, n_neighbors=7 ......................................\n",
      "[CV] ....................... leaf_size=5, n_neighbors=7, total=   0.0s\n",
      "[CV] leaf_size=5, n_neighbors=8 ......................................\n",
      "[CV] ....................... leaf_size=5, n_neighbors=8, total=   0.0s\n",
      "[CV] leaf_size=5, n_neighbors=8 ......................................\n",
      "[CV] ....................... leaf_size=5, n_neighbors=8, total=   0.0s\n",
      "[CV] leaf_size=5, n_neighbors=8 ......................................\n",
      "[CV] ....................... leaf_size=5, n_neighbors=8, total=   0.0s\n",
      "[CV] leaf_size=5, n_neighbors=8 ......................................\n",
      "[CV] ....................... leaf_size=5, n_neighbors=8, total=   0.0s\n",
      "[CV] leaf_size=5, n_neighbors=8 ......................................\n",
      "[CV] ....................... leaf_size=5, n_neighbors=8, total=   0.0s\n",
      "[CV] leaf_size=5, n_neighbors=9 ......................................\n",
      "[CV] ....................... leaf_size=5, n_neighbors=9, total=   0.0s\n",
      "[CV] leaf_size=5, n_neighbors=9 ......................................\n",
      "[CV] ....................... leaf_size=5, n_neighbors=9, total=   0.0s\n",
      "[CV] leaf_size=5, n_neighbors=9 ......................................\n",
      "[CV] ....................... leaf_size=5, n_neighbors=9, total=   0.0s\n",
      "[CV] leaf_size=5, n_neighbors=9 ......................................\n",
      "[CV] ....................... leaf_size=5, n_neighbors=9, total=   0.0s\n",
      "[CV] leaf_size=5, n_neighbors=9 ......................................\n",
      "[CV] ....................... leaf_size=5, n_neighbors=9, total=   0.0s\n",
      "[CV] leaf_size=6, n_neighbors=2 ......................................\n",
      "[CV] ....................... leaf_size=6, n_neighbors=2, total=   0.0s\n",
      "[CV] leaf_size=6, n_neighbors=2 ......................................\n",
      "[CV] ....................... leaf_size=6, n_neighbors=2, total=   0.0s\n",
      "[CV] leaf_size=6, n_neighbors=2 ......................................\n",
      "[CV] ....................... leaf_size=6, n_neighbors=2, total=   0.0s\n",
      "[CV] leaf_size=6, n_neighbors=2 ......................................\n",
      "[CV] ....................... leaf_size=6, n_neighbors=2, total=   0.0s\n",
      "[CV] leaf_size=6, n_neighbors=2 ......................................\n",
      "[CV] ....................... leaf_size=6, n_neighbors=2, total=   0.0s\n",
      "[CV] leaf_size=6, n_neighbors=3 ......................................\n",
      "[CV] ....................... leaf_size=6, n_neighbors=3, total=   0.0s\n",
      "[CV] leaf_size=6, n_neighbors=3 ......................................\n",
      "[CV] ....................... leaf_size=6, n_neighbors=3, total=   0.0s\n",
      "[CV] leaf_size=6, n_neighbors=3 ......................................\n",
      "[CV] ....................... leaf_size=6, n_neighbors=3, total=   0.0s\n",
      "[CV] leaf_size=6, n_neighbors=3 ......................................\n",
      "[CV] ....................... leaf_size=6, n_neighbors=3, total=   0.0s\n",
      "[CV] leaf_size=6, n_neighbors=3 ......................................\n"
     ]
    },
    {
     "name": "stdout",
     "output_type": "stream",
     "text": [
      "[CV] ....................... leaf_size=6, n_neighbors=3, total=   0.0s\n",
      "[CV] leaf_size=6, n_neighbors=4 ......................................\n",
      "[CV] ....................... leaf_size=6, n_neighbors=4, total=   0.0s\n",
      "[CV] leaf_size=6, n_neighbors=4 ......................................\n",
      "[CV] ....................... leaf_size=6, n_neighbors=4, total=   0.0s\n",
      "[CV] leaf_size=6, n_neighbors=4 ......................................\n",
      "[CV] ....................... leaf_size=6, n_neighbors=4, total=   0.0s\n",
      "[CV] leaf_size=6, n_neighbors=4 ......................................\n",
      "[CV] ....................... leaf_size=6, n_neighbors=4, total=   0.0s\n",
      "[CV] leaf_size=6, n_neighbors=4 ......................................\n",
      "[CV] ....................... leaf_size=6, n_neighbors=4, total=   0.0s\n",
      "[CV] leaf_size=6, n_neighbors=5 ......................................\n",
      "[CV] ....................... leaf_size=6, n_neighbors=5, total=   0.0s\n",
      "[CV] leaf_size=6, n_neighbors=5 ......................................\n",
      "[CV] ....................... leaf_size=6, n_neighbors=5, total=   0.0s\n",
      "[CV] leaf_size=6, n_neighbors=5 ......................................\n",
      "[CV] ....................... leaf_size=6, n_neighbors=5, total=   0.0s\n",
      "[CV] leaf_size=6, n_neighbors=5 ......................................\n",
      "[CV] ....................... leaf_size=6, n_neighbors=5, total=   0.0s\n",
      "[CV] leaf_size=6, n_neighbors=5 ......................................\n",
      "[CV] ....................... leaf_size=6, n_neighbors=5, total=   0.0s\n",
      "[CV] leaf_size=6, n_neighbors=6 ......................................\n",
      "[CV] ....................... leaf_size=6, n_neighbors=6, total=   0.0s\n",
      "[CV] leaf_size=6, n_neighbors=6 ......................................\n",
      "[CV] ....................... leaf_size=6, n_neighbors=6, total=   0.0s\n",
      "[CV] leaf_size=6, n_neighbors=6 ......................................\n",
      "[CV] ....................... leaf_size=6, n_neighbors=6, total=   0.0s\n",
      "[CV] leaf_size=6, n_neighbors=6 ......................................\n",
      "[CV] ....................... leaf_size=6, n_neighbors=6, total=   0.0s\n",
      "[CV] leaf_size=6, n_neighbors=6 ......................................\n",
      "[CV] ....................... leaf_size=6, n_neighbors=6, total=   0.0s\n",
      "[CV] leaf_size=6, n_neighbors=7 ......................................\n",
      "[CV] ....................... leaf_size=6, n_neighbors=7, total=   0.0s\n",
      "[CV] leaf_size=6, n_neighbors=7 ......................................\n",
      "[CV] ....................... leaf_size=6, n_neighbors=7, total=   0.0s\n",
      "[CV] leaf_size=6, n_neighbors=7 ......................................\n",
      "[CV] ....................... leaf_size=6, n_neighbors=7, total=   0.0s\n",
      "[CV] leaf_size=6, n_neighbors=7 ......................................\n",
      "[CV] ....................... leaf_size=6, n_neighbors=7, total=   0.0s\n",
      "[CV] leaf_size=6, n_neighbors=7 ......................................\n",
      "[CV] ....................... leaf_size=6, n_neighbors=7, total=   0.0s\n",
      "[CV] leaf_size=6, n_neighbors=8 ......................................\n",
      "[CV] ....................... leaf_size=6, n_neighbors=8, total=   0.0s\n",
      "[CV] leaf_size=6, n_neighbors=8 ......................................\n",
      "[CV] ....................... leaf_size=6, n_neighbors=8, total=   0.0s\n",
      "[CV] leaf_size=6, n_neighbors=8 ......................................\n",
      "[CV] ....................... leaf_size=6, n_neighbors=8, total=   0.0s\n",
      "[CV] leaf_size=6, n_neighbors=8 ......................................\n",
      "[CV] ....................... leaf_size=6, n_neighbors=8, total=   0.0s\n",
      "[CV] leaf_size=6, n_neighbors=8 ......................................\n",
      "[CV] ....................... leaf_size=6, n_neighbors=8, total=   0.0s\n",
      "[CV] leaf_size=6, n_neighbors=9 ......................................\n",
      "[CV] ....................... leaf_size=6, n_neighbors=9, total=   0.0s\n",
      "[CV] leaf_size=6, n_neighbors=9 ......................................\n",
      "[CV] ....................... leaf_size=6, n_neighbors=9, total=   0.0s\n",
      "[CV] leaf_size=6, n_neighbors=9 ......................................\n",
      "[CV] ....................... leaf_size=6, n_neighbors=9, total=   0.0s\n",
      "[CV] leaf_size=6, n_neighbors=9 ......................................\n",
      "[CV] ....................... leaf_size=6, n_neighbors=9, total=   0.0s\n",
      "[CV] leaf_size=6, n_neighbors=9 ......................................\n",
      "[CV] ....................... leaf_size=6, n_neighbors=9, total=   0.0s\n",
      "[CV] leaf_size=7, n_neighbors=2 ......................................\n",
      "[CV] ....................... leaf_size=7, n_neighbors=2, total=   0.0s\n",
      "[CV] leaf_size=7, n_neighbors=2 ......................................\n",
      "[CV] ....................... leaf_size=7, n_neighbors=2, total=   0.0s\n",
      "[CV] leaf_size=7, n_neighbors=2 ......................................\n",
      "[CV] ....................... leaf_size=7, n_neighbors=2, total=   0.0s\n",
      "[CV] leaf_size=7, n_neighbors=2 ......................................\n",
      "[CV] ....................... leaf_size=7, n_neighbors=2, total=   0.0s\n",
      "[CV] leaf_size=7, n_neighbors=2 ......................................\n",
      "[CV] ....................... leaf_size=7, n_neighbors=2, total=   0.0s\n",
      "[CV] leaf_size=7, n_neighbors=3 ......................................\n",
      "[CV] ....................... leaf_size=7, n_neighbors=3, total=   0.0s\n",
      "[CV] leaf_size=7, n_neighbors=3 ......................................\n",
      "[CV] ....................... leaf_size=7, n_neighbors=3, total=   0.0s\n",
      "[CV] leaf_size=7, n_neighbors=3 ......................................\n",
      "[CV] ....................... leaf_size=7, n_neighbors=3, total=   0.0s\n",
      "[CV] leaf_size=7, n_neighbors=3 ......................................\n",
      "[CV] ....................... leaf_size=7, n_neighbors=3, total=   0.0s\n",
      "[CV] leaf_size=7, n_neighbors=3 ......................................\n",
      "[CV] ....................... leaf_size=7, n_neighbors=3, total=   0.0s\n",
      "[CV] leaf_size=7, n_neighbors=4 ......................................\n",
      "[CV] ....................... leaf_size=7, n_neighbors=4, total=   0.0s\n",
      "[CV] leaf_size=7, n_neighbors=4 ......................................\n",
      "[CV] ....................... leaf_size=7, n_neighbors=4, total=   0.0s\n",
      "[CV] leaf_size=7, n_neighbors=4 ......................................\n",
      "[CV] ....................... leaf_size=7, n_neighbors=4, total=   0.0s\n",
      "[CV] leaf_size=7, n_neighbors=4 ......................................\n",
      "[CV] ....................... leaf_size=7, n_neighbors=4, total=   0.0s\n",
      "[CV] leaf_size=7, n_neighbors=4 ......................................\n",
      "[CV] ....................... leaf_size=7, n_neighbors=4, total=   0.0s\n",
      "[CV] leaf_size=7, n_neighbors=5 ......................................\n",
      "[CV] ....................... leaf_size=7, n_neighbors=5, total=   0.0s\n",
      "[CV] leaf_size=7, n_neighbors=5 ......................................\n",
      "[CV] ....................... leaf_size=7, n_neighbors=5, total=   0.0s\n",
      "[CV] leaf_size=7, n_neighbors=5 ......................................\n",
      "[CV] ....................... leaf_size=7, n_neighbors=5, total=   0.0s\n",
      "[CV] leaf_size=7, n_neighbors=5 ......................................\n",
      "[CV] ....................... leaf_size=7, n_neighbors=5, total=   0.0s\n",
      "[CV] leaf_size=7, n_neighbors=5 ......................................\n",
      "[CV] ....................... leaf_size=7, n_neighbors=5, total=   0.0s\n",
      "[CV] leaf_size=7, n_neighbors=6 ......................................\n",
      "[CV] ....................... leaf_size=7, n_neighbors=6, total=   0.0s\n",
      "[CV] leaf_size=7, n_neighbors=6 ......................................\n",
      "[CV] ....................... leaf_size=7, n_neighbors=6, total=   0.0s\n",
      "[CV] leaf_size=7, n_neighbors=6 ......................................\n",
      "[CV] ....................... leaf_size=7, n_neighbors=6, total=   0.0s\n",
      "[CV] leaf_size=7, n_neighbors=6 ......................................\n",
      "[CV] ....................... leaf_size=7, n_neighbors=6, total=   0.0s\n",
      "[CV] leaf_size=7, n_neighbors=6 ......................................\n",
      "[CV] ....................... leaf_size=7, n_neighbors=6, total=   0.0s\n",
      "[CV] leaf_size=7, n_neighbors=7 ......................................\n",
      "[CV] ....................... leaf_size=7, n_neighbors=7, total=   0.0s\n",
      "[CV] leaf_size=7, n_neighbors=7 ......................................\n",
      "[CV] ....................... leaf_size=7, n_neighbors=7, total=   0.0s\n",
      "[CV] leaf_size=7, n_neighbors=7 ......................................\n",
      "[CV] ....................... leaf_size=7, n_neighbors=7, total=   0.0s\n",
      "[CV] leaf_size=7, n_neighbors=7 ......................................\n"
     ]
    },
    {
     "name": "stdout",
     "output_type": "stream",
     "text": [
      "[CV] ....................... leaf_size=7, n_neighbors=7, total=   0.0s\n",
      "[CV] leaf_size=7, n_neighbors=7 ......................................\n",
      "[CV] ....................... leaf_size=7, n_neighbors=7, total=   0.0s\n",
      "[CV] leaf_size=7, n_neighbors=8 ......................................\n",
      "[CV] ....................... leaf_size=7, n_neighbors=8, total=   0.0s\n",
      "[CV] leaf_size=7, n_neighbors=8 ......................................\n",
      "[CV] ....................... leaf_size=7, n_neighbors=8, total=   0.0s\n",
      "[CV] leaf_size=7, n_neighbors=8 ......................................\n",
      "[CV] ....................... leaf_size=7, n_neighbors=8, total=   0.0s\n",
      "[CV] leaf_size=7, n_neighbors=8 ......................................\n",
      "[CV] ....................... leaf_size=7, n_neighbors=8, total=   0.0s\n",
      "[CV] leaf_size=7, n_neighbors=8 ......................................\n",
      "[CV] ....................... leaf_size=7, n_neighbors=8, total=   0.0s\n",
      "[CV] leaf_size=7, n_neighbors=9 ......................................\n",
      "[CV] ....................... leaf_size=7, n_neighbors=9, total=   0.0s\n",
      "[CV] leaf_size=7, n_neighbors=9 ......................................\n",
      "[CV] ....................... leaf_size=7, n_neighbors=9, total=   0.0s\n",
      "[CV] leaf_size=7, n_neighbors=9 ......................................\n",
      "[CV] ....................... leaf_size=7, n_neighbors=9, total=   0.0s\n",
      "[CV] leaf_size=7, n_neighbors=9 ......................................\n",
      "[CV] ....................... leaf_size=7, n_neighbors=9, total=   0.0s\n",
      "[CV] leaf_size=7, n_neighbors=9 ......................................\n",
      "[CV] ....................... leaf_size=7, n_neighbors=9, total=   0.0s\n",
      "[CV] leaf_size=8, n_neighbors=2 ......................................\n",
      "[CV] ....................... leaf_size=8, n_neighbors=2, total=   0.0s\n",
      "[CV] leaf_size=8, n_neighbors=2 ......................................\n",
      "[CV] ....................... leaf_size=8, n_neighbors=2, total=   0.0s\n",
      "[CV] leaf_size=8, n_neighbors=2 ......................................\n",
      "[CV] ....................... leaf_size=8, n_neighbors=2, total=   0.0s\n",
      "[CV] leaf_size=8, n_neighbors=2 ......................................\n",
      "[CV] ....................... leaf_size=8, n_neighbors=2, total=   0.0s\n",
      "[CV] leaf_size=8, n_neighbors=2 ......................................\n",
      "[CV] ....................... leaf_size=8, n_neighbors=2, total=   0.0s\n",
      "[CV] leaf_size=8, n_neighbors=3 ......................................\n",
      "[CV] ....................... leaf_size=8, n_neighbors=3, total=   0.0s\n",
      "[CV] leaf_size=8, n_neighbors=3 ......................................\n",
      "[CV] ....................... leaf_size=8, n_neighbors=3, total=   0.0s\n",
      "[CV] leaf_size=8, n_neighbors=3 ......................................\n",
      "[CV] ....................... leaf_size=8, n_neighbors=3, total=   0.0s\n",
      "[CV] leaf_size=8, n_neighbors=3 ......................................\n",
      "[CV] ....................... leaf_size=8, n_neighbors=3, total=   0.0s\n",
      "[CV] leaf_size=8, n_neighbors=3 ......................................\n",
      "[CV] ....................... leaf_size=8, n_neighbors=3, total=   0.0s\n",
      "[CV] leaf_size=8, n_neighbors=4 ......................................\n",
      "[CV] ....................... leaf_size=8, n_neighbors=4, total=   0.0s\n",
      "[CV] leaf_size=8, n_neighbors=4 ......................................\n",
      "[CV] ....................... leaf_size=8, n_neighbors=4, total=   0.0s\n",
      "[CV] leaf_size=8, n_neighbors=4 ......................................\n",
      "[CV] ....................... leaf_size=8, n_neighbors=4, total=   0.0s\n",
      "[CV] leaf_size=8, n_neighbors=4 ......................................\n",
      "[CV] ....................... leaf_size=8, n_neighbors=4, total=   0.0s\n",
      "[CV] leaf_size=8, n_neighbors=4 ......................................\n",
      "[CV] ....................... leaf_size=8, n_neighbors=4, total=   0.0s\n",
      "[CV] leaf_size=8, n_neighbors=5 ......................................\n",
      "[CV] ....................... leaf_size=8, n_neighbors=5, total=   0.0s\n",
      "[CV] leaf_size=8, n_neighbors=5 ......................................\n",
      "[CV] ....................... leaf_size=8, n_neighbors=5, total=   0.0s\n",
      "[CV] leaf_size=8, n_neighbors=5 ......................................\n",
      "[CV] ....................... leaf_size=8, n_neighbors=5, total=   0.0s\n",
      "[CV] leaf_size=8, n_neighbors=5 ......................................\n",
      "[CV] ....................... leaf_size=8, n_neighbors=5, total=   0.0s\n",
      "[CV] leaf_size=8, n_neighbors=5 ......................................\n",
      "[CV] ....................... leaf_size=8, n_neighbors=5, total=   0.0s\n",
      "[CV] leaf_size=8, n_neighbors=6 ......................................\n",
      "[CV] ....................... leaf_size=8, n_neighbors=6, total=   0.0s\n",
      "[CV] leaf_size=8, n_neighbors=6 ......................................\n",
      "[CV] ....................... leaf_size=8, n_neighbors=6, total=   0.0s\n",
      "[CV] leaf_size=8, n_neighbors=6 ......................................\n",
      "[CV] ....................... leaf_size=8, n_neighbors=6, total=   0.0s\n",
      "[CV] leaf_size=8, n_neighbors=6 ......................................\n",
      "[CV] ....................... leaf_size=8, n_neighbors=6, total=   0.0s\n",
      "[CV] leaf_size=8, n_neighbors=6 ......................................\n",
      "[CV] ....................... leaf_size=8, n_neighbors=6, total=   0.0s\n",
      "[CV] leaf_size=8, n_neighbors=7 ......................................\n",
      "[CV] ....................... leaf_size=8, n_neighbors=7, total=   0.0s\n",
      "[CV] leaf_size=8, n_neighbors=7 ......................................\n",
      "[CV] ....................... leaf_size=8, n_neighbors=7, total=   0.0s\n",
      "[CV] leaf_size=8, n_neighbors=7 ......................................\n",
      "[CV] ....................... leaf_size=8, n_neighbors=7, total=   0.0s\n",
      "[CV] leaf_size=8, n_neighbors=7 ......................................\n",
      "[CV] ....................... leaf_size=8, n_neighbors=7, total=   0.0s\n",
      "[CV] leaf_size=8, n_neighbors=7 ......................................\n",
      "[CV] ....................... leaf_size=8, n_neighbors=7, total=   0.0s\n",
      "[CV] leaf_size=8, n_neighbors=8 ......................................\n",
      "[CV] ....................... leaf_size=8, n_neighbors=8, total=   0.0s\n",
      "[CV] leaf_size=8, n_neighbors=8 ......................................\n",
      "[CV] ....................... leaf_size=8, n_neighbors=8, total=   0.0s\n",
      "[CV] leaf_size=8, n_neighbors=8 ......................................\n",
      "[CV] ....................... leaf_size=8, n_neighbors=8, total=   0.0s\n",
      "[CV] leaf_size=8, n_neighbors=8 ......................................\n",
      "[CV] ....................... leaf_size=8, n_neighbors=8, total=   0.0s\n",
      "[CV] leaf_size=8, n_neighbors=8 ......................................\n",
      "[CV] ....................... leaf_size=8, n_neighbors=8, total=   0.0s\n",
      "[CV] leaf_size=8, n_neighbors=9 ......................................\n",
      "[CV] ....................... leaf_size=8, n_neighbors=9, total=   0.0s\n",
      "[CV] leaf_size=8, n_neighbors=9 ......................................\n",
      "[CV] ....................... leaf_size=8, n_neighbors=9, total=   0.0s\n",
      "[CV] leaf_size=8, n_neighbors=9 ......................................\n",
      "[CV] ....................... leaf_size=8, n_neighbors=9, total=   0.0s\n",
      "[CV] leaf_size=8, n_neighbors=9 ......................................\n",
      "[CV] ....................... leaf_size=8, n_neighbors=9, total=   0.0s\n",
      "[CV] leaf_size=8, n_neighbors=9 ......................................\n",
      "[CV] ....................... leaf_size=8, n_neighbors=9, total=   0.0s\n",
      "[CV] leaf_size=9, n_neighbors=2 ......................................\n",
      "[CV] ....................... leaf_size=9, n_neighbors=2, total=   0.0s\n",
      "[CV] leaf_size=9, n_neighbors=2 ......................................\n",
      "[CV] ....................... leaf_size=9, n_neighbors=2, total=   0.0s\n",
      "[CV] leaf_size=9, n_neighbors=2 ......................................\n",
      "[CV] ....................... leaf_size=9, n_neighbors=2, total=   0.0s\n",
      "[CV] leaf_size=9, n_neighbors=2 ......................................\n",
      "[CV] ....................... leaf_size=9, n_neighbors=2, total=   0.0s\n",
      "[CV] leaf_size=9, n_neighbors=2 ......................................\n",
      "[CV] ....................... leaf_size=9, n_neighbors=2, total=   0.0s\n",
      "[CV] leaf_size=9, n_neighbors=3 ......................................\n",
      "[CV] ....................... leaf_size=9, n_neighbors=3, total=   0.0s\n",
      "[CV] leaf_size=9, n_neighbors=3 ......................................\n"
     ]
    },
    {
     "name": "stdout",
     "output_type": "stream",
     "text": [
      "[CV] ....................... leaf_size=9, n_neighbors=3, total=   0.0s\n",
      "[CV] leaf_size=9, n_neighbors=3 ......................................\n",
      "[CV] ....................... leaf_size=9, n_neighbors=3, total=   0.0s\n",
      "[CV] leaf_size=9, n_neighbors=3 ......................................\n",
      "[CV] ....................... leaf_size=9, n_neighbors=3, total=   0.0s\n",
      "[CV] leaf_size=9, n_neighbors=3 ......................................\n",
      "[CV] ....................... leaf_size=9, n_neighbors=3, total=   0.0s\n",
      "[CV] leaf_size=9, n_neighbors=4 ......................................\n",
      "[CV] ....................... leaf_size=9, n_neighbors=4, total=   0.0s\n",
      "[CV] leaf_size=9, n_neighbors=4 ......................................\n",
      "[CV] ....................... leaf_size=9, n_neighbors=4, total=   0.0s\n",
      "[CV] leaf_size=9, n_neighbors=4 ......................................\n",
      "[CV] ....................... leaf_size=9, n_neighbors=4, total=   0.0s\n",
      "[CV] leaf_size=9, n_neighbors=4 ......................................\n",
      "[CV] ....................... leaf_size=9, n_neighbors=4, total=   0.0s\n",
      "[CV] leaf_size=9, n_neighbors=4 ......................................\n",
      "[CV] ....................... leaf_size=9, n_neighbors=4, total=   0.0s\n",
      "[CV] leaf_size=9, n_neighbors=5 ......................................\n",
      "[CV] ....................... leaf_size=9, n_neighbors=5, total=   0.0s\n",
      "[CV] leaf_size=9, n_neighbors=5 ......................................\n",
      "[CV] ....................... leaf_size=9, n_neighbors=5, total=   0.0s\n",
      "[CV] leaf_size=9, n_neighbors=5 ......................................\n",
      "[CV] ....................... leaf_size=9, n_neighbors=5, total=   0.0s\n",
      "[CV] leaf_size=9, n_neighbors=5 ......................................\n",
      "[CV] ....................... leaf_size=9, n_neighbors=5, total=   0.0s\n",
      "[CV] leaf_size=9, n_neighbors=5 ......................................\n",
      "[CV] ....................... leaf_size=9, n_neighbors=5, total=   0.0s\n",
      "[CV] leaf_size=9, n_neighbors=6 ......................................\n",
      "[CV] ....................... leaf_size=9, n_neighbors=6, total=   0.0s\n",
      "[CV] leaf_size=9, n_neighbors=6 ......................................\n",
      "[CV] ....................... leaf_size=9, n_neighbors=6, total=   0.0s\n",
      "[CV] leaf_size=9, n_neighbors=6 ......................................\n",
      "[CV] ....................... leaf_size=9, n_neighbors=6, total=   0.0s\n",
      "[CV] leaf_size=9, n_neighbors=6 ......................................\n",
      "[CV] ....................... leaf_size=9, n_neighbors=6, total=   0.0s\n",
      "[CV] leaf_size=9, n_neighbors=6 ......................................\n",
      "[CV] ....................... leaf_size=9, n_neighbors=6, total=   0.0s\n",
      "[CV] leaf_size=9, n_neighbors=7 ......................................\n",
      "[CV] ....................... leaf_size=9, n_neighbors=7, total=   0.0s\n",
      "[CV] leaf_size=9, n_neighbors=7 ......................................\n",
      "[CV] ....................... leaf_size=9, n_neighbors=7, total=   0.0s\n",
      "[CV] leaf_size=9, n_neighbors=7 ......................................\n",
      "[CV] ....................... leaf_size=9, n_neighbors=7, total=   0.0s\n",
      "[CV] leaf_size=9, n_neighbors=7 ......................................\n",
      "[CV] ....................... leaf_size=9, n_neighbors=7, total=   0.0s\n",
      "[CV] leaf_size=9, n_neighbors=7 ......................................\n",
      "[CV] ....................... leaf_size=9, n_neighbors=7, total=   0.0s\n",
      "[CV] leaf_size=9, n_neighbors=8 ......................................\n",
      "[CV] ....................... leaf_size=9, n_neighbors=8, total=   0.0s\n",
      "[CV] leaf_size=9, n_neighbors=8 ......................................\n",
      "[CV] ....................... leaf_size=9, n_neighbors=8, total=   0.0s\n",
      "[CV] leaf_size=9, n_neighbors=8 ......................................\n",
      "[CV] ....................... leaf_size=9, n_neighbors=8, total=   0.0s\n",
      "[CV] leaf_size=9, n_neighbors=8 ......................................\n",
      "[CV] ....................... leaf_size=9, n_neighbors=8, total=   0.0s\n",
      "[CV] leaf_size=9, n_neighbors=8 ......................................\n",
      "[CV] ....................... leaf_size=9, n_neighbors=8, total=   0.0s\n",
      "[CV] leaf_size=9, n_neighbors=9 ......................................\n",
      "[CV] ....................... leaf_size=9, n_neighbors=9, total=   0.0s\n",
      "[CV] leaf_size=9, n_neighbors=9 ......................................\n",
      "[CV] ....................... leaf_size=9, n_neighbors=9, total=   0.0s\n",
      "[CV] leaf_size=9, n_neighbors=9 ......................................\n",
      "[CV] ....................... leaf_size=9, n_neighbors=9, total=   0.0s\n",
      "[CV] leaf_size=9, n_neighbors=9 ......................................\n",
      "[CV] ....................... leaf_size=9, n_neighbors=9, total=   0.0s\n",
      "[CV] leaf_size=9, n_neighbors=9 ......................................\n",
      "[CV] ....................... leaf_size=9, n_neighbors=9, total=   0.0s\n",
      "{'leaf_size': 2, 'n_neighbors': 7}\n"
     ]
    },
    {
     "name": "stderr",
     "output_type": "stream",
     "text": [
      "[Parallel(n_jobs=1)]: Done 320 out of 320 | elapsed:    2.0s finished\n"
     ]
    }
   ],
   "source": [
    "from sklearn.model_selection import GridSearchCV\n",
    "tp = {\"n_neighbors\":range(2,10,1),\"leaf_size\":range(2,10,1)}\n",
    "from sklearn.neighbors import KNeighborsClassifier\n",
    "knn = KNeighborsClassifier()\n",
    "cv = GridSearchCV(knn,tp,scoring='accuracy',cv=5,verbose=2,n_jobs=1)\n",
    "cvmodel = cv.fit(X,Y.values.ravel())\n",
    "print(cvmodel.best_params_)"
   ]
  },
  {
   "cell_type": "code",
   "execution_count": 365,
   "metadata": {},
   "outputs": [
    {
     "name": "stdout",
     "output_type": "stream",
     "text": [
      "accuracy_score :-  0.625\n"
     ]
    }
   ],
   "source": [
    "knr = KNeighborsClassifier(n_neighbors=7,leaf_size=2,p=2,n_jobs=1)\n",
    "model = knr.fit(xtrain,ytrain.values.ravel())\n",
    "pred = model.predict(xtest)\n",
    "from sklearn.metrics import accuracy_score\n",
    "print(\"accuracy_score :- \",accuracy_score(ytest,pred))"
   ]
  },
  {
   "cell_type": "code",
   "execution_count": 366,
   "metadata": {},
   "outputs": [],
   "source": [
    "import pickle\n",
    "file = open(\"KNN.pkl\",'wb')\n",
    "pickle.dump(model,file)"
   ]
  },
  {
   "cell_type": "markdown",
   "metadata": {},
   "source": [
    "Split Data into Train and Validation (test)"
   ]
  },
  {
   "cell_type": "code",
   "execution_count": 315,
   "metadata": {},
   "outputs": [
    {
     "name": "stdout",
     "output_type": "stream",
     "text": [
      "Train set: (384, 4) (384, 1)\n",
      "Test set: (96, 4) (96, 1)\n"
     ]
    }
   ],
   "source": [
    "from sklearn.model_selection import train_test_split\n",
    "\n",
    "X_train, X_test, y_train, y_test = train_test_split( X, Y, test_size=0.2, random_state=4)\n",
    "\n",
    "print ('Train set:', X_train.shape,  y_train.shape)\n",
    "print ('Test set:', X_test.shape,  y_test.shape)"
   ]
  },
  {
   "cell_type": "markdown",
   "metadata": {},
   "source": [
    "### Decision Tree"
   ]
  },
  {
   "cell_type": "code",
   "execution_count": 329,
   "metadata": {},
   "outputs": [
    {
     "data": {
      "text/plain": [
       "DecisionTreeClassifier(ccp_alpha=0.0, class_weight=None, criterion='entropy',\n",
       "                       max_depth=4, max_features=None, max_leaf_nodes=None,\n",
       "                       min_impurity_decrease=0.0, min_impurity_split=None,\n",
       "                       min_samples_leaf=1, min_samples_split=2,\n",
       "                       min_weight_fraction_leaf=0.0, presort='deprecated',\n",
       "                       random_state=None, splitter='best')"
      ]
     },
     "execution_count": 329,
     "metadata": {},
     "output_type": "execute_result"
    }
   ],
   "source": [
    "from sklearn.tree import DecisionTreeClassifier\n",
    "Dtree = DecisionTreeClassifier(criterion=\"entropy\", max_depth = 4)\n",
    "Dtree.fit(X_train,y_train)\n",
    "Dtree"
   ]
  },
  {
   "cell_type": "markdown",
   "metadata": {},
   "source": [
    "### Suport Vector Machine - SVM"
   ]
  },
  {
   "cell_type": "code",
   "execution_count": 317,
   "metadata": {},
   "outputs": [
    {
     "data": {
      "text/plain": [
       "SVC(C=1.0, break_ties=False, cache_size=200, class_weight=None, coef0=0.0,\n",
       "    decision_function_shape='ovr', degree=3, gamma='auto', kernel='rbf',\n",
       "    max_iter=-1, probability=False, random_state=None, shrinking=True,\n",
       "    tol=0.001, verbose=False)"
      ]
     },
     "execution_count": 317,
     "metadata": {},
     "output_type": "execute_result"
    }
   ],
   "source": [
    "from sklearn import svm\n",
    "supMac = svm.SVC(kernel='rbf', gamma='auto')\n",
    "supMac.fit(X_train, y_train.values.ravel()) "
   ]
  },
  {
   "cell_type": "markdown",
   "metadata": {},
   "source": [
    "### Logistic Regression"
   ]
  },
  {
   "cell_type": "code",
   "execution_count": 330,
   "metadata": {},
   "outputs": [
    {
     "data": {
      "text/plain": [
       "LogisticRegression(C=0.01, class_weight=None, dual=False, fit_intercept=True,\n",
       "                   intercept_scaling=1, l1_ratio=None, max_iter=100,\n",
       "                   multi_class='auto', n_jobs=None, penalty='l2',\n",
       "                   random_state=None, solver='liblinear', tol=0.0001, verbose=0,\n",
       "                   warm_start=False)"
      ]
     },
     "execution_count": 330,
     "metadata": {},
     "output_type": "execute_result"
    }
   ],
   "source": [
    "from sklearn.linear_model import LogisticRegression\n",
    "LR = LogisticRegression(C=0.01, solver='liblinear', multi_class='auto').fit(X_train,y_train.values.ravel())\n",
    "LR"
   ]
  },
  {
   "cell_type": "markdown",
   "metadata": {},
   "source": [
    "# Model Performance"
   ]
  },
  {
   "cell_type": "code",
   "execution_count": 319,
   "metadata": {},
   "outputs": [],
   "source": [
    "from sklearn.metrics import accuracy_score\n",
    "from sklearn.metrics import f1_score"
   ]
  },
  {
   "cell_type": "code",
   "execution_count": 331,
   "metadata": {},
   "outputs": [
    {
     "name": "stdout",
     "output_type": "stream",
     "text": [
      "KNN Accuracy_score 0.625\n",
      "KNN F1-score: 0.27\n"
     ]
    }
   ],
   "source": [
    "accuracy_score(ytest,pred)\n",
    "print(\"KNN Accuracy_score\",accuracy_score(ytest,pred))\n",
    "print(\"KNN F1-score: %.2f\" % f1_score(y_test, pred, average='weighted') )"
   ]
  },
  {
   "cell_type": "code",
   "execution_count": 332,
   "metadata": {},
   "outputs": [
    {
     "name": "stdout",
     "output_type": "stream",
     "text": [
      "Decision Tree accuracy_score: 0.59\n",
      "Decision Tree F1-score: 0.60\n"
     ]
    }
   ],
   "source": [
    "dtree_yhat = Dtree.predict(X_test)\n",
    "print(\"Decision Tree accuracy_score: %.2f\" % accuracy_score(y_test, dtree_yhat))\n",
    "print(\"Decision Tree F1-score: %.2f\" % f1_score(y_test, dtree_yhat, average='weighted') )"
   ]
  },
  {
   "cell_type": "code",
   "execution_count": 333,
   "metadata": {},
   "outputs": [
    {
     "name": "stdout",
     "output_type": "stream",
     "text": [
      "SVM accuracy_score: 0.61\n",
      "SVM F1-score: 0.61\n"
     ]
    }
   ],
   "source": [
    "svm_yhat = supMac.predict(X_test)\n",
    "print(\"SVM accuracy_score: %.2f\" % accuracy_score(y_test, svm_yhat))\n",
    "print(\"SVM F1-score: %.2f\" % f1_score(y_test, svm_yhat, average='weighted') )"
   ]
  },
  {
   "cell_type": "code",
   "execution_count": 334,
   "metadata": {},
   "outputs": [
    {
     "name": "stdout",
     "output_type": "stream",
     "text": [
      "LR accuracy_score: 0.62\n",
      "LR F1-score: 0.60\n"
     ]
    }
   ],
   "source": [
    "LR_yhat = LR.predict(X_test)\n",
    "LR_yhat_prob = LR.predict_proba(X_test)\n",
    "print(\"LR accuracy_score: %.2f\" % accuracy_score(y_test, LR_yhat))\n",
    "print(\"LR F1-score: %.2f\" % f1_score(y_test, LR_yhat, average='weighted') )"
   ]
  },
  {
   "cell_type": "markdown",
   "metadata": {},
   "source": [
    "# Results and Discussion"
   ]
  },
  {
   "cell_type": "markdown",
   "metadata": {},
   "source": [
    "\n",
    "\n",
    "The presented research focused in data analytics and building a machine learning model to understand the student's behavior and classification under online learning courses. The results concluded some points:\n",
    "\n",
    "    Parents active participation and tracking are important. Absent parents are linked to absent students and more      satisfaction with the school.\n",
    "\n",
    "    Students who read announcements and visit the course resources are most likely to have higher classification.\n",
    "\n",
    "    Actions related to discussions are less likely to improve student's classification.\n",
    "\n",
    "As a final result, a predictive model is offered in order to help the online platforms to understand the student's acts and take decisions. The best model was the K-Nearest neighbors with k=4 and accuracy of 0.65 Jaccard Index. Finally, it is important to mention that location data was not possible to be used. That's because it refers to Born location of the student and this is not a important feature. So, it could be a more important data the place where the student was conected, because the high absence levels could be related to poor Internet connection areas, like conflicted-areas and under development countries. So, this research can be used as a starting point for further works and model adaptation.\n"
   ]
  },
  {
   "cell_type": "markdown",
   "metadata": {},
   "source": [
    "# Conclusion"
   ]
  },
  {
   "cell_type": "markdown",
   "metadata": {},
   "source": [
    "Data analytics and Data Science are vital fields for improving Online Courses experience. Set the right content for the right student is a complex but essential task to keep the students enrolled, motivated and getting high classification. This will, with no doubt, improve education levels of their countries and help to improve their economy. Despite that, online learning has a potential value for increasing society levels."
   ]
  },
  {
   "cell_type": "code",
   "execution_count": null,
   "metadata": {},
   "outputs": [],
   "source": []
  }
 ],
 "metadata": {
  "kernelspec": {
   "display_name": "Python 3",
   "language": "python",
   "name": "python3"
  },
  "language_info": {
   "codemirror_mode": {
    "name": "ipython",
    "version": 3
   },
   "file_extension": ".py",
   "mimetype": "text/x-python",
   "name": "python",
   "nbconvert_exporter": "python",
   "pygments_lexer": "ipython3",
   "version": "3.7.4"
  }
 },
 "nbformat": 4,
 "nbformat_minor": 4
}
